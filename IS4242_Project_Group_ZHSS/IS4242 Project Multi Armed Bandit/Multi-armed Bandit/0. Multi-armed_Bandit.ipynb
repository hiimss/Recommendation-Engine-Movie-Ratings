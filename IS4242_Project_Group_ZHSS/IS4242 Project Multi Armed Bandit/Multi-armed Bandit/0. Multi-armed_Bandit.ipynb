{
 "cells": [
  {
   "cell_type": "markdown",
   "metadata": {},
   "source": [
    "<h3>Import Libraries"
   ]
  },
  {
   "cell_type": "code",
   "execution_count": 2,
   "metadata": {},
   "outputs": [],
   "source": [
    "import pandas as pd\n",
    "import numpy as np\n",
    "%matplotlib inline\n",
    "from matplotlib import pyplot as plt\n",
    "import seaborn as sns"
   ]
  },
  {
   "cell_type": "markdown",
   "metadata": {},
   "source": [
    "<h3> Read data"
   ]
  },
  {
   "cell_type": "code",
   "execution_count": 3,
   "metadata": {},
   "outputs": [
    {
     "name": "stdout",
     "output_type": "stream",
     "text": [
      "(1682, 24)\n"
     ]
    },
    {
     "data": {
      "text/html": [
       "<div>\n",
       "<style scoped>\n",
       "    .dataframe tbody tr th:only-of-type {\n",
       "        vertical-align: middle;\n",
       "    }\n",
       "\n",
       "    .dataframe tbody tr th {\n",
       "        vertical-align: top;\n",
       "    }\n",
       "\n",
       "    .dataframe thead th {\n",
       "        text-align: right;\n",
       "    }\n",
       "</style>\n",
       "<table border=\"1\" class=\"dataframe\">\n",
       "  <thead>\n",
       "    <tr style=\"text-align: right;\">\n",
       "      <th></th>\n",
       "      <th>movie_id</th>\n",
       "      <th>movie title</th>\n",
       "      <th>release date</th>\n",
       "      <th>video release date</th>\n",
       "      <th>IMDb URL</th>\n",
       "      <th>unknown</th>\n",
       "      <th>Action</th>\n",
       "      <th>Adventure</th>\n",
       "      <th>Animation</th>\n",
       "      <th>Children's</th>\n",
       "      <th>...</th>\n",
       "      <th>Fantasy</th>\n",
       "      <th>Film-Noir</th>\n",
       "      <th>Horror</th>\n",
       "      <th>Musical</th>\n",
       "      <th>Mystery</th>\n",
       "      <th>Romance</th>\n",
       "      <th>Sci-Fi</th>\n",
       "      <th>Thriller</th>\n",
       "      <th>War</th>\n",
       "      <th>Western</th>\n",
       "    </tr>\n",
       "  </thead>\n",
       "  <tbody>\n",
       "    <tr>\n",
       "      <th>0</th>\n",
       "      <td>1</td>\n",
       "      <td>Toy Story (1995)</td>\n",
       "      <td>01-Jan-1995</td>\n",
       "      <td>NaN</td>\n",
       "      <td>http://us.imdb.com/M/title-exact?Toy%20Story%2...</td>\n",
       "      <td>0</td>\n",
       "      <td>0</td>\n",
       "      <td>0</td>\n",
       "      <td>1</td>\n",
       "      <td>1</td>\n",
       "      <td>...</td>\n",
       "      <td>0</td>\n",
       "      <td>0</td>\n",
       "      <td>0</td>\n",
       "      <td>0</td>\n",
       "      <td>0</td>\n",
       "      <td>0</td>\n",
       "      <td>0</td>\n",
       "      <td>0</td>\n",
       "      <td>0</td>\n",
       "      <td>0</td>\n",
       "    </tr>\n",
       "    <tr>\n",
       "      <th>1</th>\n",
       "      <td>2</td>\n",
       "      <td>GoldenEye (1995)</td>\n",
       "      <td>01-Jan-1995</td>\n",
       "      <td>NaN</td>\n",
       "      <td>http://us.imdb.com/M/title-exact?GoldenEye%20(...</td>\n",
       "      <td>0</td>\n",
       "      <td>1</td>\n",
       "      <td>1</td>\n",
       "      <td>0</td>\n",
       "      <td>0</td>\n",
       "      <td>...</td>\n",
       "      <td>0</td>\n",
       "      <td>0</td>\n",
       "      <td>0</td>\n",
       "      <td>0</td>\n",
       "      <td>0</td>\n",
       "      <td>0</td>\n",
       "      <td>0</td>\n",
       "      <td>1</td>\n",
       "      <td>0</td>\n",
       "      <td>0</td>\n",
       "    </tr>\n",
       "    <tr>\n",
       "      <th>2</th>\n",
       "      <td>3</td>\n",
       "      <td>Four Rooms (1995)</td>\n",
       "      <td>01-Jan-1995</td>\n",
       "      <td>NaN</td>\n",
       "      <td>http://us.imdb.com/M/title-exact?Four%20Rooms%...</td>\n",
       "      <td>0</td>\n",
       "      <td>0</td>\n",
       "      <td>0</td>\n",
       "      <td>0</td>\n",
       "      <td>0</td>\n",
       "      <td>...</td>\n",
       "      <td>0</td>\n",
       "      <td>0</td>\n",
       "      <td>0</td>\n",
       "      <td>0</td>\n",
       "      <td>0</td>\n",
       "      <td>0</td>\n",
       "      <td>0</td>\n",
       "      <td>1</td>\n",
       "      <td>0</td>\n",
       "      <td>0</td>\n",
       "    </tr>\n",
       "    <tr>\n",
       "      <th>3</th>\n",
       "      <td>4</td>\n",
       "      <td>Get Shorty (1995)</td>\n",
       "      <td>01-Jan-1995</td>\n",
       "      <td>NaN</td>\n",
       "      <td>http://us.imdb.com/M/title-exact?Get%20Shorty%...</td>\n",
       "      <td>0</td>\n",
       "      <td>1</td>\n",
       "      <td>0</td>\n",
       "      <td>0</td>\n",
       "      <td>0</td>\n",
       "      <td>...</td>\n",
       "      <td>0</td>\n",
       "      <td>0</td>\n",
       "      <td>0</td>\n",
       "      <td>0</td>\n",
       "      <td>0</td>\n",
       "      <td>0</td>\n",
       "      <td>0</td>\n",
       "      <td>0</td>\n",
       "      <td>0</td>\n",
       "      <td>0</td>\n",
       "    </tr>\n",
       "    <tr>\n",
       "      <th>4</th>\n",
       "      <td>5</td>\n",
       "      <td>Copycat (1995)</td>\n",
       "      <td>01-Jan-1995</td>\n",
       "      <td>NaN</td>\n",
       "      <td>http://us.imdb.com/M/title-exact?Copycat%20(1995)</td>\n",
       "      <td>0</td>\n",
       "      <td>0</td>\n",
       "      <td>0</td>\n",
       "      <td>0</td>\n",
       "      <td>0</td>\n",
       "      <td>...</td>\n",
       "      <td>0</td>\n",
       "      <td>0</td>\n",
       "      <td>0</td>\n",
       "      <td>0</td>\n",
       "      <td>0</td>\n",
       "      <td>0</td>\n",
       "      <td>0</td>\n",
       "      <td>1</td>\n",
       "      <td>0</td>\n",
       "      <td>0</td>\n",
       "    </tr>\n",
       "  </tbody>\n",
       "</table>\n",
       "<p>5 rows × 24 columns</p>\n",
       "</div>"
      ],
      "text/plain": [
       "   movie_id        movie title release date  video release date  \\\n",
       "0         1   Toy Story (1995)  01-Jan-1995                 NaN   \n",
       "1         2   GoldenEye (1995)  01-Jan-1995                 NaN   \n",
       "2         3  Four Rooms (1995)  01-Jan-1995                 NaN   \n",
       "3         4  Get Shorty (1995)  01-Jan-1995                 NaN   \n",
       "4         5     Copycat (1995)  01-Jan-1995                 NaN   \n",
       "\n",
       "                                            IMDb URL  unknown  Action  \\\n",
       "0  http://us.imdb.com/M/title-exact?Toy%20Story%2...        0       0   \n",
       "1  http://us.imdb.com/M/title-exact?GoldenEye%20(...        0       1   \n",
       "2  http://us.imdb.com/M/title-exact?Four%20Rooms%...        0       0   \n",
       "3  http://us.imdb.com/M/title-exact?Get%20Shorty%...        0       1   \n",
       "4  http://us.imdb.com/M/title-exact?Copycat%20(1995)        0       0   \n",
       "\n",
       "   Adventure  Animation  Children's  ...  Fantasy  Film-Noir  Horror  Musical  \\\n",
       "0          0          1           1  ...        0          0       0        0   \n",
       "1          1          0           0  ...        0          0       0        0   \n",
       "2          0          0           0  ...        0          0       0        0   \n",
       "3          0          0           0  ...        0          0       0        0   \n",
       "4          0          0           0  ...        0          0       0        0   \n",
       "\n",
       "   Mystery  Romance  Sci-Fi  Thriller  War  Western  \n",
       "0        0        0       0         0    0        0  \n",
       "1        0        0       0         1    0        0  \n",
       "2        0        0       0         1    0        0  \n",
       "3        0        0       0         0    0        0  \n",
       "4        0        0       0         1    0        0  \n",
       "\n",
       "[5 rows x 24 columns]"
      ]
     },
     "execution_count": 3,
     "metadata": {},
     "output_type": "execute_result"
    }
   ],
   "source": [
    "#Load the list of the genres\n",
    "genre = pd.read_csv('data/u.genre', sep='|', header=None, encoding='latin1', index_col=False)[0].tolist()\n",
    "#Load the information about the movies, add in column names\n",
    "movies = pd.read_csv('data/u.item', sep='|', header=None, encoding='latin1', index_col=False,\n",
    "                     names = ['movie_id','movie title','release date','video release date','IMDb URL'] + genre)\n",
    "# Display the overview of the movies data\n",
    "print(movies.shape)\n",
    "movies.head()"
   ]
  },
  {
   "cell_type": "code",
   "execution_count": 4,
   "metadata": {},
   "outputs": [
    {
     "data": {
      "text/html": [
       "<div>\n",
       "<style scoped>\n",
       "    .dataframe tbody tr th:only-of-type {\n",
       "        vertical-align: middle;\n",
       "    }\n",
       "\n",
       "    .dataframe tbody tr th {\n",
       "        vertical-align: top;\n",
       "    }\n",
       "\n",
       "    .dataframe thead th {\n",
       "        text-align: right;\n",
       "    }\n",
       "</style>\n",
       "<table border=\"1\" class=\"dataframe\">\n",
       "  <thead>\n",
       "    <tr style=\"text-align: right;\">\n",
       "      <th></th>\n",
       "      <th>user_id</th>\n",
       "      <th>age</th>\n",
       "      <th>gender</th>\n",
       "      <th>occupation</th>\n",
       "      <th>zip code</th>\n",
       "    </tr>\n",
       "  </thead>\n",
       "  <tbody>\n",
       "    <tr>\n",
       "      <th>0</th>\n",
       "      <td>1</td>\n",
       "      <td>24</td>\n",
       "      <td>M</td>\n",
       "      <td>technician</td>\n",
       "      <td>85711</td>\n",
       "    </tr>\n",
       "    <tr>\n",
       "      <th>1</th>\n",
       "      <td>2</td>\n",
       "      <td>53</td>\n",
       "      <td>F</td>\n",
       "      <td>other</td>\n",
       "      <td>94043</td>\n",
       "    </tr>\n",
       "    <tr>\n",
       "      <th>2</th>\n",
       "      <td>3</td>\n",
       "      <td>23</td>\n",
       "      <td>M</td>\n",
       "      <td>writer</td>\n",
       "      <td>32067</td>\n",
       "    </tr>\n",
       "    <tr>\n",
       "      <th>3</th>\n",
       "      <td>4</td>\n",
       "      <td>24</td>\n",
       "      <td>M</td>\n",
       "      <td>technician</td>\n",
       "      <td>43537</td>\n",
       "    </tr>\n",
       "    <tr>\n",
       "      <th>4</th>\n",
       "      <td>5</td>\n",
       "      <td>33</td>\n",
       "      <td>F</td>\n",
       "      <td>other</td>\n",
       "      <td>15213</td>\n",
       "    </tr>\n",
       "  </tbody>\n",
       "</table>\n",
       "</div>"
      ],
      "text/plain": [
       "   user_id  age gender  occupation zip code\n",
       "0        1   24      M  technician    85711\n",
       "1        2   53      F       other    94043\n",
       "2        3   23      M      writer    32067\n",
       "3        4   24      M  technician    43537\n",
       "4        5   33      F       other    15213"
      ]
     },
     "execution_count": 4,
     "metadata": {},
     "output_type": "execute_result"
    }
   ],
   "source": [
    "#Load the demographic information of users\n",
    "users = pd.read_csv('data/u.user', sep='|', header=None, encoding='latin1', index_col=False,\n",
    "                     names = ['user_id','age','gender','occupation','zip code'])\n",
    "users.head()"
   ]
  },
  {
   "cell_type": "code",
   "execution_count": 5,
   "metadata": {},
   "outputs": [
    {
     "name": "stdout",
     "output_type": "stream",
     "text": [
      "(100000, 4)\n"
     ]
    },
    {
     "data": {
      "text/html": [
       "<div>\n",
       "<style scoped>\n",
       "    .dataframe tbody tr th:only-of-type {\n",
       "        vertical-align: middle;\n",
       "    }\n",
       "\n",
       "    .dataframe tbody tr th {\n",
       "        vertical-align: top;\n",
       "    }\n",
       "\n",
       "    .dataframe thead th {\n",
       "        text-align: right;\n",
       "    }\n",
       "</style>\n",
       "<table border=\"1\" class=\"dataframe\">\n",
       "  <thead>\n",
       "    <tr style=\"text-align: right;\">\n",
       "      <th></th>\n",
       "      <th>user_id</th>\n",
       "      <th>movie_id</th>\n",
       "      <th>rating</th>\n",
       "      <th>timestamp</th>\n",
       "    </tr>\n",
       "  </thead>\n",
       "  <tbody>\n",
       "    <tr>\n",
       "      <th>0</th>\n",
       "      <td>196</td>\n",
       "      <td>242</td>\n",
       "      <td>3</td>\n",
       "      <td>881250949</td>\n",
       "    </tr>\n",
       "    <tr>\n",
       "      <th>1</th>\n",
       "      <td>186</td>\n",
       "      <td>302</td>\n",
       "      <td>3</td>\n",
       "      <td>891717742</td>\n",
       "    </tr>\n",
       "    <tr>\n",
       "      <th>2</th>\n",
       "      <td>22</td>\n",
       "      <td>377</td>\n",
       "      <td>1</td>\n",
       "      <td>878887116</td>\n",
       "    </tr>\n",
       "    <tr>\n",
       "      <th>3</th>\n",
       "      <td>244</td>\n",
       "      <td>51</td>\n",
       "      <td>2</td>\n",
       "      <td>880606923</td>\n",
       "    </tr>\n",
       "    <tr>\n",
       "      <th>4</th>\n",
       "      <td>166</td>\n",
       "      <td>346</td>\n",
       "      <td>1</td>\n",
       "      <td>886397596</td>\n",
       "    </tr>\n",
       "  </tbody>\n",
       "</table>\n",
       "</div>"
      ],
      "text/plain": [
       "   user_id  movie_id  rating  timestamp\n",
       "0      196       242       3  881250949\n",
       "1      186       302       3  891717742\n",
       "2       22       377       1  878887116\n",
       "3      244        51       2  880606923\n",
       "4      166       346       1  886397596"
      ]
     },
     "execution_count": 5,
     "metadata": {},
     "output_type": "execute_result"
    }
   ],
   "source": [
    "# Load the data \n",
    "ratings = pd.read_csv('data/u.data', sep='\\t', header=None, names=['user_id','movie_id','rating','timestamp'])\n",
    "# Display the overview of the ratings dataset\n",
    "print(ratings.shape)\n",
    "ratings.head()"
   ]
  },
  {
   "cell_type": "markdown",
   "metadata": {},
   "source": [
    "<h1> Data Preprocessing"
   ]
  },
  {
   "cell_type": "markdown",
   "metadata": {},
   "source": [
    "<h3> Data Cleaning"
   ]
  },
  {
   "cell_type": "code",
   "execution_count": 6,
   "metadata": {},
   "outputs": [
    {
     "name": "stdout",
     "output_type": "stream",
     "text": [
      "Number of missing values in ratings data:  0\n",
      "Number of missing values in users data:  0\n",
      "Number of missing values in movies data:  movie_id                 0\n",
      "movie title              0\n",
      "release date             1\n",
      "video release date    1682\n",
      "IMDb URL                 3\n",
      "unknown                  0\n",
      "Action                   0\n",
      "Adventure                0\n",
      "Animation                0\n",
      "Children's               0\n",
      "Comedy                   0\n",
      "Crime                    0\n",
      "Documentary              0\n",
      "Drama                    0\n",
      "Fantasy                  0\n",
      "Film-Noir                0\n",
      "Horror                   0\n",
      "Musical                  0\n",
      "Mystery                  0\n",
      "Romance                  0\n",
      "Sci-Fi                   0\n",
      "Thriller                 0\n",
      "War                      0\n",
      "Western                  0\n",
      "dtype: int64\n"
     ]
    }
   ],
   "source": [
    "# Check for missing values in each dataframe\n",
    "print(\"Number of missing values in ratings data: \",ratings.isna().sum().sum())\n",
    "print(\"Number of missing values in users data: \",users.isna().sum().sum())\n",
    "print(\"Number of missing values in movies data: \",movies.isna().sum())"
   ]
  },
  {
   "cell_type": "markdown",
   "metadata": {},
   "source": [
    "<h5> Preprocessing for movies data"
   ]
  },
  {
   "cell_type": "code",
   "execution_count": 7,
   "metadata": {},
   "outputs": [],
   "source": [
    "# Drop the 'video release date' in the 'movies' dataset as it only contains NA values\n",
    "# Remove columns that are less relevant in further analysis\n",
    "movies = movies.drop(columns=['video release date','IMDb URL','release date']+genre)"
   ]
  },
  {
   "cell_type": "code",
   "execution_count": 8,
   "metadata": {},
   "outputs": [
    {
     "data": {
      "text/html": [
       "<div>\n",
       "<style scoped>\n",
       "    .dataframe tbody tr th:only-of-type {\n",
       "        vertical-align: middle;\n",
       "    }\n",
       "\n",
       "    .dataframe tbody tr th {\n",
       "        vertical-align: top;\n",
       "    }\n",
       "\n",
       "    .dataframe thead th {\n",
       "        text-align: right;\n",
       "    }\n",
       "</style>\n",
       "<table border=\"1\" class=\"dataframe\">\n",
       "  <thead>\n",
       "    <tr style=\"text-align: right;\">\n",
       "      <th></th>\n",
       "      <th>movie_id</th>\n",
       "      <th>movie title</th>\n",
       "    </tr>\n",
       "  </thead>\n",
       "  <tbody>\n",
       "    <tr>\n",
       "      <th>0</th>\n",
       "      <td>1</td>\n",
       "      <td>Toy Story</td>\n",
       "    </tr>\n",
       "    <tr>\n",
       "      <th>1</th>\n",
       "      <td>2</td>\n",
       "      <td>GoldenEye</td>\n",
       "    </tr>\n",
       "    <tr>\n",
       "      <th>2</th>\n",
       "      <td>3</td>\n",
       "      <td>Four Rooms</td>\n",
       "    </tr>\n",
       "    <tr>\n",
       "      <th>3</th>\n",
       "      <td>4</td>\n",
       "      <td>Get Shorty</td>\n",
       "    </tr>\n",
       "    <tr>\n",
       "      <th>4</th>\n",
       "      <td>5</td>\n",
       "      <td>Copycat</td>\n",
       "    </tr>\n",
       "    <tr>\n",
       "      <th>...</th>\n",
       "      <td>...</td>\n",
       "      <td>...</td>\n",
       "    </tr>\n",
       "    <tr>\n",
       "      <th>1677</th>\n",
       "      <td>1678</td>\n",
       "      <td>Mat' i syn</td>\n",
       "    </tr>\n",
       "    <tr>\n",
       "      <th>1678</th>\n",
       "      <td>1679</td>\n",
       "      <td>B. Monkey</td>\n",
       "    </tr>\n",
       "    <tr>\n",
       "      <th>1679</th>\n",
       "      <td>1680</td>\n",
       "      <td>Sliding Doors</td>\n",
       "    </tr>\n",
       "    <tr>\n",
       "      <th>1680</th>\n",
       "      <td>1681</td>\n",
       "      <td>You So Crazy</td>\n",
       "    </tr>\n",
       "    <tr>\n",
       "      <th>1681</th>\n",
       "      <td>1682</td>\n",
       "      <td>Scream of Stone (Schrei aus Stein)</td>\n",
       "    </tr>\n",
       "  </tbody>\n",
       "</table>\n",
       "<p>1682 rows × 2 columns</p>\n",
       "</div>"
      ],
      "text/plain": [
       "      movie_id                         movie title\n",
       "0            1                           Toy Story\n",
       "1            2                           GoldenEye\n",
       "2            3                          Four Rooms\n",
       "3            4                          Get Shorty\n",
       "4            5                             Copycat\n",
       "...        ...                                 ...\n",
       "1677      1678                          Mat' i syn\n",
       "1678      1679                           B. Monkey\n",
       "1679      1680                       Sliding Doors\n",
       "1680      1681                        You So Crazy\n",
       "1681      1682  Scream of Stone (Schrei aus Stein)\n",
       "\n",
       "[1682 rows x 2 columns]"
      ]
     },
     "execution_count": 8,
     "metadata": {},
     "output_type": "execute_result"
    }
   ],
   "source": [
    "# Remove the year in the movie title as it is repeated in the release date\n",
    "movies['movie title'] = movies['movie title'].str.extract(r'^(.*?)\\s*\\(\\d+\\)$')\n",
    "movies"
   ]
  },
  {
   "cell_type": "code",
   "execution_count": 9,
   "metadata": {},
   "outputs": [],
   "source": [
    "#Remove movies that has <= 200 ratings\n",
    "rating_counts = ratings['movie_id'].value_counts()\n",
    "valid_movies = rating_counts[rating_counts.values > 200].index\n",
    "movies = movies[movies['movie_id'].isin(valid_movies)]\n"
   ]
  },
  {
   "cell_type": "code",
   "execution_count": 10,
   "metadata": {},
   "outputs": [
    {
     "name": "stdout",
     "output_type": "stream",
     "text": [
      "(117, 2)\n"
     ]
    },
    {
     "data": {
      "text/html": [
       "<div>\n",
       "<style scoped>\n",
       "    .dataframe tbody tr th:only-of-type {\n",
       "        vertical-align: middle;\n",
       "    }\n",
       "\n",
       "    .dataframe tbody tr th {\n",
       "        vertical-align: top;\n",
       "    }\n",
       "\n",
       "    .dataframe thead th {\n",
       "        text-align: right;\n",
       "    }\n",
       "</style>\n",
       "<table border=\"1\" class=\"dataframe\">\n",
       "  <thead>\n",
       "    <tr style=\"text-align: right;\">\n",
       "      <th></th>\n",
       "      <th>movie_id</th>\n",
       "      <th>movie title</th>\n",
       "    </tr>\n",
       "  </thead>\n",
       "  <tbody>\n",
       "    <tr>\n",
       "      <th>0</th>\n",
       "      <td>1</td>\n",
       "      <td>Toy Story</td>\n",
       "    </tr>\n",
       "    <tr>\n",
       "      <th>3</th>\n",
       "      <td>4</td>\n",
       "      <td>Get Shorty</td>\n",
       "    </tr>\n",
       "    <tr>\n",
       "      <th>6</th>\n",
       "      <td>7</td>\n",
       "      <td>Twelve Monkeys</td>\n",
       "    </tr>\n",
       "    <tr>\n",
       "      <th>7</th>\n",
       "      <td>8</td>\n",
       "      <td>Babe</td>\n",
       "    </tr>\n",
       "    <tr>\n",
       "      <th>8</th>\n",
       "      <td>9</td>\n",
       "      <td>Dead Man Walking</td>\n",
       "    </tr>\n",
       "  </tbody>\n",
       "</table>\n",
       "</div>"
      ],
      "text/plain": [
       "   movie_id       movie title\n",
       "0         1         Toy Story\n",
       "3         4        Get Shorty\n",
       "6         7    Twelve Monkeys\n",
       "7         8              Babe\n",
       "8         9  Dead Man Walking"
      ]
     },
     "execution_count": 10,
     "metadata": {},
     "output_type": "execute_result"
    }
   ],
   "source": [
    "# Display the updated overview of the movies dataset\n",
    "print(movies.shape)\n",
    "movies.head()"
   ]
  },
  {
   "cell_type": "markdown",
   "metadata": {},
   "source": [
    "<h5> Preprocessing for users data"
   ]
  },
  {
   "cell_type": "code",
   "execution_count": 11,
   "metadata": {},
   "outputs": [],
   "source": [
    "# Drop excess information as we are divding users into 4 groups based on their age and gender\n",
    "users = users.drop(columns = ['occupation','zip code'])"
   ]
  },
  {
   "cell_type": "code",
   "execution_count": 12,
   "metadata": {},
   "outputs": [
    {
     "name": "stdout",
     "output_type": "stream",
     "text": [
      "(943, 3)\n"
     ]
    },
    {
     "data": {
      "text/html": [
       "<div>\n",
       "<style scoped>\n",
       "    .dataframe tbody tr th:only-of-type {\n",
       "        vertical-align: middle;\n",
       "    }\n",
       "\n",
       "    .dataframe tbody tr th {\n",
       "        vertical-align: top;\n",
       "    }\n",
       "\n",
       "    .dataframe thead th {\n",
       "        text-align: right;\n",
       "    }\n",
       "</style>\n",
       "<table border=\"1\" class=\"dataframe\">\n",
       "  <thead>\n",
       "    <tr style=\"text-align: right;\">\n",
       "      <th></th>\n",
       "      <th>user_id</th>\n",
       "      <th>age</th>\n",
       "      <th>gender</th>\n",
       "    </tr>\n",
       "  </thead>\n",
       "  <tbody>\n",
       "    <tr>\n",
       "      <th>0</th>\n",
       "      <td>1</td>\n",
       "      <td>24</td>\n",
       "      <td>M</td>\n",
       "    </tr>\n",
       "    <tr>\n",
       "      <th>1</th>\n",
       "      <td>2</td>\n",
       "      <td>53</td>\n",
       "      <td>F</td>\n",
       "    </tr>\n",
       "    <tr>\n",
       "      <th>2</th>\n",
       "      <td>3</td>\n",
       "      <td>23</td>\n",
       "      <td>M</td>\n",
       "    </tr>\n",
       "    <tr>\n",
       "      <th>3</th>\n",
       "      <td>4</td>\n",
       "      <td>24</td>\n",
       "      <td>M</td>\n",
       "    </tr>\n",
       "    <tr>\n",
       "      <th>4</th>\n",
       "      <td>5</td>\n",
       "      <td>33</td>\n",
       "      <td>F</td>\n",
       "    </tr>\n",
       "  </tbody>\n",
       "</table>\n",
       "</div>"
      ],
      "text/plain": [
       "   user_id  age gender\n",
       "0        1   24      M\n",
       "1        2   53      F\n",
       "2        3   23      M\n",
       "3        4   24      M\n",
       "4        5   33      F"
      ]
     },
     "execution_count": 12,
     "metadata": {},
     "output_type": "execute_result"
    }
   ],
   "source": [
    "# Display the overview of the users dataset\n",
    "print(users.shape)\n",
    "users.head()"
   ]
  },
  {
   "cell_type": "markdown",
   "metadata": {},
   "source": [
    "<h5> Preprocessing for ratings data"
   ]
  },
  {
   "cell_type": "code",
   "execution_count": 13,
   "metadata": {},
   "outputs": [],
   "source": [
    "# Drop the timestamp column as it is irelevant in this analysis\n",
    "ratings = ratings.drop(columns=['timestamp']) \n",
    "# Drop the rows without movie id in valid movies\n",
    "ratings = ratings[ratings['movie_id'].isin(valid_movies)]"
   ]
  },
  {
   "cell_type": "code",
   "execution_count": 14,
   "metadata": {},
   "outputs": [
    {
     "name": "stdout",
     "output_type": "stream",
     "text": [
      "(33480, 3)\n"
     ]
    },
    {
     "data": {
      "text/html": [
       "<div>\n",
       "<style scoped>\n",
       "    .dataframe tbody tr th:only-of-type {\n",
       "        vertical-align: middle;\n",
       "    }\n",
       "\n",
       "    .dataframe tbody tr th {\n",
       "        vertical-align: top;\n",
       "    }\n",
       "\n",
       "    .dataframe thead th {\n",
       "        text-align: right;\n",
       "    }\n",
       "</style>\n",
       "<table border=\"1\" class=\"dataframe\">\n",
       "  <thead>\n",
       "    <tr style=\"text-align: right;\">\n",
       "      <th></th>\n",
       "      <th>user_id</th>\n",
       "      <th>movie_id</th>\n",
       "      <th>rating</th>\n",
       "    </tr>\n",
       "  </thead>\n",
       "  <tbody>\n",
       "    <tr>\n",
       "      <th>1</th>\n",
       "      <td>186</td>\n",
       "      <td>302</td>\n",
       "      <td>3</td>\n",
       "    </tr>\n",
       "    <tr>\n",
       "      <th>6</th>\n",
       "      <td>115</td>\n",
       "      <td>265</td>\n",
       "      <td>2</td>\n",
       "    </tr>\n",
       "    <tr>\n",
       "      <th>10</th>\n",
       "      <td>62</td>\n",
       "      <td>257</td>\n",
       "      <td>2</td>\n",
       "    </tr>\n",
       "    <tr>\n",
       "      <th>12</th>\n",
       "      <td>200</td>\n",
       "      <td>222</td>\n",
       "      <td>5</td>\n",
       "    </tr>\n",
       "    <tr>\n",
       "      <th>22</th>\n",
       "      <td>299</td>\n",
       "      <td>144</td>\n",
       "      <td>4</td>\n",
       "    </tr>\n",
       "  </tbody>\n",
       "</table>\n",
       "</div>"
      ],
      "text/plain": [
       "    user_id  movie_id  rating\n",
       "1       186       302       3\n",
       "6       115       265       2\n",
       "10       62       257       2\n",
       "12      200       222       5\n",
       "22      299       144       4"
      ]
     },
     "execution_count": 14,
     "metadata": {},
     "output_type": "execute_result"
    }
   ],
   "source": [
    "# Display the updated overview of the ratings dataset\n",
    "print(ratings.shape)\n",
    "ratings.head()"
   ]
  },
  {
   "cell_type": "markdown",
   "metadata": {},
   "source": [
    "<h3> Feature Engineering"
   ]
  },
  {
   "cell_type": "code",
   "execution_count": 15,
   "metadata": {},
   "outputs": [
    {
     "data": {
      "text/html": [
       "<div>\n",
       "<style scoped>\n",
       "    .dataframe tbody tr th:only-of-type {\n",
       "        vertical-align: middle;\n",
       "    }\n",
       "\n",
       "    .dataframe tbody tr th {\n",
       "        vertical-align: top;\n",
       "    }\n",
       "\n",
       "    .dataframe thead th {\n",
       "        text-align: right;\n",
       "    }\n",
       "</style>\n",
       "<table border=\"1\" class=\"dataframe\">\n",
       "  <thead>\n",
       "    <tr style=\"text-align: right;\">\n",
       "      <th></th>\n",
       "      <th>user_id</th>\n",
       "      <th>Category</th>\n",
       "    </tr>\n",
       "  </thead>\n",
       "  <tbody>\n",
       "    <tr>\n",
       "      <th>0</th>\n",
       "      <td>1</td>\n",
       "      <td>Male, Young</td>\n",
       "    </tr>\n",
       "    <tr>\n",
       "      <th>1</th>\n",
       "      <td>2</td>\n",
       "      <td>Female, Adult</td>\n",
       "    </tr>\n",
       "    <tr>\n",
       "      <th>2</th>\n",
       "      <td>3</td>\n",
       "      <td>Male, Young</td>\n",
       "    </tr>\n",
       "    <tr>\n",
       "      <th>3</th>\n",
       "      <td>4</td>\n",
       "      <td>Male, Young</td>\n",
       "    </tr>\n",
       "    <tr>\n",
       "      <th>4</th>\n",
       "      <td>5</td>\n",
       "      <td>Female, Adult</td>\n",
       "    </tr>\n",
       "    <tr>\n",
       "      <th>...</th>\n",
       "      <td>...</td>\n",
       "      <td>...</td>\n",
       "    </tr>\n",
       "    <tr>\n",
       "      <th>938</th>\n",
       "      <td>939</td>\n",
       "      <td>Female, Young</td>\n",
       "    </tr>\n",
       "    <tr>\n",
       "      <th>939</th>\n",
       "      <td>940</td>\n",
       "      <td>Male, Adult</td>\n",
       "    </tr>\n",
       "    <tr>\n",
       "      <th>940</th>\n",
       "      <td>941</td>\n",
       "      <td>Male, Young</td>\n",
       "    </tr>\n",
       "    <tr>\n",
       "      <th>941</th>\n",
       "      <td>942</td>\n",
       "      <td>Female, Adult</td>\n",
       "    </tr>\n",
       "    <tr>\n",
       "      <th>942</th>\n",
       "      <td>943</td>\n",
       "      <td>Male, Young</td>\n",
       "    </tr>\n",
       "  </tbody>\n",
       "</table>\n",
       "<p>943 rows × 2 columns</p>\n",
       "</div>"
      ],
      "text/plain": [
       "     user_id       Category\n",
       "0          1    Male, Young\n",
       "1          2  Female, Adult\n",
       "2          3    Male, Young\n",
       "3          4    Male, Young\n",
       "4          5  Female, Adult\n",
       "..       ...            ...\n",
       "938      939  Female, Young\n",
       "939      940    Male, Adult\n",
       "940      941    Male, Young\n",
       "941      942  Female, Adult\n",
       "942      943    Male, Young\n",
       "\n",
       "[943 rows x 2 columns]"
      ]
     },
     "execution_count": 15,
     "metadata": {},
     "output_type": "execute_result"
    }
   ],
   "source": [
    "# Group the users into 4 groups based on their age and gender\n",
    "users.loc[(users['gender'] == 'M') & (users['age'] < 30), 'Category'] = 'Male, Young'\n",
    "users.loc[(users['gender'] == 'M') & (users['age'] >= 30), 'Category'] = 'Male, Adult'\n",
    "users.loc[(users['gender'] == 'F') & (users['age'] < 30), 'Category'] = 'Female, Young'\n",
    "users.loc[(users['gender'] == 'F') & (users['age'] >= 30), 'Category'] = 'Female, Adult'\n",
    "\n",
    "# Drop the age and gender columns\n",
    "users = users.drop(columns = ['age', 'gender'])\n",
    "users"
   ]
  },
  {
   "cell_type": "code",
   "execution_count": 16,
   "metadata": {},
   "outputs": [],
   "source": [
    "# Transform the ratings from a discrete range into a boolean value\n",
    "# Use column 'Like' to store the value\n",
    "ratings['like'] = ratings['rating'].apply(lambda x:  x >= 4)"
   ]
  },
  {
   "cell_type": "code",
   "execution_count": 17,
   "metadata": {},
   "outputs": [
    {
     "data": {
      "text/html": [
       "<div>\n",
       "<style scoped>\n",
       "    .dataframe tbody tr th:only-of-type {\n",
       "        vertical-align: middle;\n",
       "    }\n",
       "\n",
       "    .dataframe tbody tr th {\n",
       "        vertical-align: top;\n",
       "    }\n",
       "\n",
       "    .dataframe thead th {\n",
       "        text-align: right;\n",
       "    }\n",
       "</style>\n",
       "<table border=\"1\" class=\"dataframe\">\n",
       "  <thead>\n",
       "    <tr style=\"text-align: right;\">\n",
       "      <th></th>\n",
       "      <th>user_id</th>\n",
       "      <th>movie_id</th>\n",
       "      <th>rating</th>\n",
       "      <th>like</th>\n",
       "      <th>Category</th>\n",
       "    </tr>\n",
       "  </thead>\n",
       "  <tbody>\n",
       "    <tr>\n",
       "      <th>0</th>\n",
       "      <td>186</td>\n",
       "      <td>302</td>\n",
       "      <td>3</td>\n",
       "      <td>False</td>\n",
       "      <td>Female, Adult</td>\n",
       "    </tr>\n",
       "    <tr>\n",
       "      <th>1</th>\n",
       "      <td>186</td>\n",
       "      <td>385</td>\n",
       "      <td>4</td>\n",
       "      <td>True</td>\n",
       "      <td>Female, Adult</td>\n",
       "    </tr>\n",
       "    <tr>\n",
       "      <th>2</th>\n",
       "      <td>186</td>\n",
       "      <td>588</td>\n",
       "      <td>4</td>\n",
       "      <td>True</td>\n",
       "      <td>Female, Adult</td>\n",
       "    </tr>\n",
       "    <tr>\n",
       "      <th>3</th>\n",
       "      <td>186</td>\n",
       "      <td>322</td>\n",
       "      <td>5</td>\n",
       "      <td>True</td>\n",
       "      <td>Female, Adult</td>\n",
       "    </tr>\n",
       "    <tr>\n",
       "      <th>4</th>\n",
       "      <td>186</td>\n",
       "      <td>333</td>\n",
       "      <td>3</td>\n",
       "      <td>False</td>\n",
       "      <td>Female, Adult</td>\n",
       "    </tr>\n",
       "    <tr>\n",
       "      <th>...</th>\n",
       "      <td>...</td>\n",
       "      <td>...</td>\n",
       "      <td>...</td>\n",
       "      <td>...</td>\n",
       "      <td>...</td>\n",
       "    </tr>\n",
       "    <tr>\n",
       "      <th>33475</th>\n",
       "      <td>941</td>\n",
       "      <td>273</td>\n",
       "      <td>3</td>\n",
       "      <td>False</td>\n",
       "      <td>Male, Young</td>\n",
       "    </tr>\n",
       "    <tr>\n",
       "      <th>33476</th>\n",
       "      <td>941</td>\n",
       "      <td>1</td>\n",
       "      <td>5</td>\n",
       "      <td>True</td>\n",
       "      <td>Male, Young</td>\n",
       "    </tr>\n",
       "    <tr>\n",
       "      <th>33477</th>\n",
       "      <td>941</td>\n",
       "      <td>294</td>\n",
       "      <td>4</td>\n",
       "      <td>True</td>\n",
       "      <td>Male, Young</td>\n",
       "    </tr>\n",
       "    <tr>\n",
       "      <th>33478</th>\n",
       "      <td>855</td>\n",
       "      <td>179</td>\n",
       "      <td>3</td>\n",
       "      <td>False</td>\n",
       "      <td>Male, Adult</td>\n",
       "    </tr>\n",
       "    <tr>\n",
       "      <th>33479</th>\n",
       "      <td>855</td>\n",
       "      <td>475</td>\n",
       "      <td>4</td>\n",
       "      <td>True</td>\n",
       "      <td>Male, Adult</td>\n",
       "    </tr>\n",
       "  </tbody>\n",
       "</table>\n",
       "<p>33480 rows × 5 columns</p>\n",
       "</div>"
      ],
      "text/plain": [
       "       user_id  movie_id  rating   like       Category\n",
       "0          186       302       3  False  Female, Adult\n",
       "1          186       385       4   True  Female, Adult\n",
       "2          186       588       4   True  Female, Adult\n",
       "3          186       322       5   True  Female, Adult\n",
       "4          186       333       3  False  Female, Adult\n",
       "...        ...       ...     ...    ...            ...\n",
       "33475      941       273       3  False    Male, Young\n",
       "33476      941         1       5   True    Male, Young\n",
       "33477      941       294       4   True    Male, Young\n",
       "33478      855       179       3  False    Male, Adult\n",
       "33479      855       475       4   True    Male, Adult\n",
       "\n",
       "[33480 rows x 5 columns]"
      ]
     },
     "execution_count": 17,
     "metadata": {},
     "output_type": "execute_result"
    }
   ],
   "source": [
    "#Combine the users dataset and the ratings dataset\n",
    "ratings= pd.merge(ratings,users, on = 'user_id')\n",
    "ratings"
   ]
  },
  {
   "cell_type": "code",
   "execution_count": 18,
   "metadata": {},
   "outputs": [
    {
     "data": {
      "text/html": [
       "<div>\n",
       "<style scoped>\n",
       "    .dataframe tbody tr th:only-of-type {\n",
       "        vertical-align: middle;\n",
       "    }\n",
       "\n",
       "    .dataframe tbody tr th {\n",
       "        vertical-align: top;\n",
       "    }\n",
       "\n",
       "    .dataframe thead th {\n",
       "        text-align: right;\n",
       "    }\n",
       "</style>\n",
       "<table border=\"1\" class=\"dataframe\">\n",
       "  <thead>\n",
       "    <tr style=\"text-align: right;\">\n",
       "      <th></th>\n",
       "      <th>user_id</th>\n",
       "      <th>movie_id</th>\n",
       "      <th>rating</th>\n",
       "      <th>like</th>\n",
       "      <th>Category</th>\n",
       "      <th>movie title</th>\n",
       "    </tr>\n",
       "  </thead>\n",
       "  <tbody>\n",
       "    <tr>\n",
       "      <th>0</th>\n",
       "      <td>186</td>\n",
       "      <td>302</td>\n",
       "      <td>3</td>\n",
       "      <td>False</td>\n",
       "      <td>Female, Adult</td>\n",
       "      <td>L.A. Confidential</td>\n",
       "    </tr>\n",
       "    <tr>\n",
       "      <th>1</th>\n",
       "      <td>115</td>\n",
       "      <td>302</td>\n",
       "      <td>4</td>\n",
       "      <td>True</td>\n",
       "      <td>Male, Adult</td>\n",
       "      <td>L.A. Confidential</td>\n",
       "    </tr>\n",
       "    <tr>\n",
       "      <th>2</th>\n",
       "      <td>62</td>\n",
       "      <td>302</td>\n",
       "      <td>3</td>\n",
       "      <td>False</td>\n",
       "      <td>Female, Young</td>\n",
       "      <td>L.A. Confidential</td>\n",
       "    </tr>\n",
       "    <tr>\n",
       "      <th>3</th>\n",
       "      <td>299</td>\n",
       "      <td>302</td>\n",
       "      <td>4</td>\n",
       "      <td>True</td>\n",
       "      <td>Male, Young</td>\n",
       "      <td>L.A. Confidential</td>\n",
       "    </tr>\n",
       "    <tr>\n",
       "      <th>4</th>\n",
       "      <td>160</td>\n",
       "      <td>302</td>\n",
       "      <td>5</td>\n",
       "      <td>True</td>\n",
       "      <td>Male, Young</td>\n",
       "      <td>L.A. Confidential</td>\n",
       "    </tr>\n",
       "  </tbody>\n",
       "</table>\n",
       "</div>"
      ],
      "text/plain": [
       "   user_id  movie_id  rating   like       Category        movie title\n",
       "0      186       302       3  False  Female, Adult  L.A. Confidential\n",
       "1      115       302       4   True    Male, Adult  L.A. Confidential\n",
       "2       62       302       3  False  Female, Young  L.A. Confidential\n",
       "3      299       302       4   True    Male, Young  L.A. Confidential\n",
       "4      160       302       5   True    Male, Young  L.A. Confidential"
      ]
     },
     "execution_count": 18,
     "metadata": {},
     "output_type": "execute_result"
    }
   ],
   "source": [
    "#Combine the movies dataset and the ratings dataset\n",
    "ratings= pd.merge(ratings,movies, on = 'movie_id')\n",
    "ratings.head()"
   ]
  },
  {
   "cell_type": "code",
   "execution_count": 19,
   "metadata": {},
   "outputs": [],
   "source": [
    "# Seperate the ratings dataset into 4 datasets based on the user category and store \n",
    "male_young_ratings = ratings[ratings['Category'] == 'Male, Young'].drop(columns=['Category'])\n",
    "male_young_ratings.to_csv('processed_data/male_young_ratings.csv')\n",
    "\n",
    "male_adult_ratings = ratings[ratings['Category'] == 'Male, Adult'].drop(columns=['Category'])\n",
    "male_adult_ratings.to_csv('processed_data/male_adult_ratings.csv')\n",
    "\n",
    "female_young_ratings = ratings[ratings['Category'] == 'Female, Young'].drop(columns=['Category'])\n",
    "female_young_ratings.to_csv('processed_data/female_young_ratings.csv')\n",
    "\n",
    "female_adult_ratings = ratings[ratings['Category'] == 'Female, Adult'].drop(columns=['Category'])\n",
    "female_adult_ratings.to_csv('processed_data/female_adult_ratings.csv')"
   ]
  },
  {
   "cell_type": "code",
   "execution_count": 31,
   "metadata": {},
   "outputs": [
    {
     "name": "stdout",
     "output_type": "stream",
     "text": [
      "Overview of the dataset for group Male, Young: (11838, 5)\n",
      "     user_id  movie_id  rating  like        movie title\n",
      "3       299       302       4  True  L.A. Confidential\n",
      "4       160       302       5  True  L.A. Confidential\n",
      "7       216       302       5  True  L.A. Confidential\n",
      "9       293       302       4  True  L.A. Confidential\n",
      "10      305       302       4  True  L.A. Confidential\n",
      "Overview of the dataset for group Male, Adult: (13250, 5)\n",
      "     user_id  movie_id  rating  like        movie title\n",
      "1       115       302       4  True  L.A. Confidential\n",
      "6       145       302       4  True  L.A. Confidential\n",
      "8       271       302       5  True  L.A. Confidential\n",
      "11       90       302       5  True  L.A. Confidential\n",
      "12       13       302       5  True  L.A. Confidential\n",
      "Overview of the dataset for group Female, Young: (3935, 5)\n",
      "     user_id  movie_id  rating   like        movie title\n",
      "2        62       302       3  False  L.A. Confidential\n",
      "19      229       302       5   True  L.A. Confidential\n",
      "30       43       302       4   True  L.A. Confidential\n",
      "37      214       302       4   True  L.A. Confidential\n",
      "46       49       302       4   True  L.A. Confidential\n",
      "Overview of the dataset for group Female, Young: (4457, 5)\n",
      "     user_id  movie_id  rating   like        movie title\n",
      "0       186       302       3  False  L.A. Confidential\n",
      "5       278       302       3  False  L.A. Confidential\n",
      "15       15       302       4   True  L.A. Confidential\n",
      "17      269       302       3  False  L.A. Confidential\n",
      "35      151       302       3  False  L.A. Confidential\n"
     ]
    }
   ],
   "source": [
    "# Overview for each group of data\n",
    "print(f'Overview of the dataset for group Male, Young: {male_young_ratings.shape}\\n',male_young_ratings.head())\n",
    "print(f'Overview of the dataset for group Male, Adult: {male_adult_ratings.shape}\\n',male_adult_ratings.head())\n",
    "print(f'Overview of the dataset for group Female, Young: {female_young_ratings.shape}\\n',female_young_ratings.head())\n",
    "print(f'Overview of the dataset for group Female, Young: {female_adult_ratings.shape}\\n',female_adult_ratings.head())"
   ]
  },
  {
   "cell_type": "markdown",
   "metadata": {},
   "source": [
    "<h1> Bandit Simulator"
   ]
  },
  {
   "cell_type": "code",
   "execution_count": 21,
   "metadata": {},
   "outputs": [],
   "source": [
    "from tqdm import tqdm\n",
    "\n",
    "class ReplaySimulator(object):\n",
    "    def __init__(self, n_visits, reward_history, item_col_name, visitor_col_name, reward_col_name, n_iterations=1, random_seed=1):\n",
    "        # Set the random seed for reproducibility\n",
    "        np.random.seed(random_seed)\n",
    "\n",
    "        # Store input data and parameters\n",
    "        self.reward_history = reward_history\n",
    "        self.item_col_name = item_col_name\n",
    "        self.visitor_col_name = visitor_col_name\n",
    "        self.reward_col_name = reward_col_name\n",
    "\n",
    "        # Number of visits to replay/simulate\n",
    "        self.n_visits = n_visits\n",
    "\n",
    "        # Number of runs to average over\n",
    "        self.n_iterations = n_iterations\n",
    "\n",
    "        # Items under test\n",
    "        self.items = self.reward_history[self.item_col_name].unique()\n",
    "        self.n_items = len(self.items)\n",
    "\n",
    "        # Visitors in the historical reward_history\n",
    "        self.visitors = self.reward_history[self.visitor_col_name].unique()\n",
    "        self.n_visitors = len(self.visitors)\n",
    "\n",
    "    def reset(self):\n",
    "        # Initialize counters for item samples and rewards\n",
    "        self.n_item_samples = np.zeros(self.n_items)\n",
    "        self.n_item_rewards = np.zeros(self.n_items)\n",
    "\n",
    "    def replay(self):\n",
    "        # Store simulation results\n",
    "        results = []\n",
    "\n",
    "        for iteration in tqdm(range(0, self.n_iterations)):\n",
    "            # Reset counters for each iteration\n",
    "            self.reset()\n",
    "\n",
    "            total_rewards = 0\n",
    "            fraction_relevant = np.zeros(self.n_visits)\n",
    "\n",
    "            for visit in range(0, self.n_visits):\n",
    "                found_match = False\n",
    "                while not found_match:\n",
    "                    # Choose a random visitor\n",
    "                    visitor_idx = np.random.randint(self.n_visitors)\n",
    "                    visitor_id = self.visitors[visitor_idx]\n",
    "\n",
    "                    # Select an item to offer the visitor\n",
    "                    item_idx = self.select_item()\n",
    "                    item_id = self.items[item_idx]\n",
    "\n",
    "                    # Check if this interaction exists in the history\n",
    "                    reward = self.reward_history.query(\n",
    "                        '{} == @item_id and {} == @visitor_id'.format(self.item_col_name, self.visitor_col_name))[self.reward_col_name]\n",
    "\n",
    "                    found_match = reward.shape[0] > 0\n",
    "\n",
    "                reward_value = reward.iloc[0]\n",
    "\n",
    "                self.record_result(visit, item_idx, reward_value)\n",
    "\n",
    "                # Record metrics\n",
    "                total_rewards += reward_value\n",
    "                fraction_relevant[visit] = total_rewards * 1. / (visit + 1)\n",
    "\n",
    "                result = {}\n",
    "                result['iteration'] = iteration\n",
    "                result['visit'] = visit\n",
    "                result['item_id'] = item_id\n",
    "                result['visitor_id'] = visitor_id\n",
    "                result['reward'] = reward_value\n",
    "                result['total_reward'] = total_rewards\n",
    "                result['fraction_relevant'] = total_rewards * 1. / (visit + 1)\n",
    "\n",
    "                results.append(result)\n",
    "\n",
    "        return results\n",
    "\n",
    "    def select_item(self):\n",
    "        # This method selects an item randomly\n",
    "        return np.random.randint(self.n_items)\n",
    "\n",
    "    def record_result(self, visit, item_idx, reward):\n",
    "        # This method records the result of an interaction and updates item statistics\n",
    "\n",
    "        # Update the number of times the item has been sampled\n",
    "        self.n_item_samples[item_idx] += 1\n",
    "\n",
    "        # Update the fraction of time the item has resulted in a reward\n",
    "        alpha = 1. / self.n_item_samples[item_idx]\n",
    "        self.n_item_rewards[item_idx] += alpha * (reward - self.n_item_rewards[item_idx])\n"
   ]
  },
  {
   "cell_type": "markdown",
   "metadata": {},
   "source": [
    "# $\\epsilon$-Greedy Simulations - Parameter Selection"
   ]
  },
  {
   "cell_type": "markdown",
   "metadata": {},
   "source": [
    "Update arm selection for $\\epsilon$-Greedy"
   ]
  },
  {
   "cell_type": "code",
   "execution_count": 22,
   "metadata": {},
   "outputs": [],
   "source": [
    "class EpsilonGreedyReplayer(ReplaySimulator):\n",
    "    '''\n",
    "    A class to provide functionality for simulating the replayer method on an epsilon-Greedy bandit algorithm.\n",
    "    '''\n",
    "\n",
    "    def __init__(self, epsilon, n_visits, reward_history, item_col_name, visitor_col_name, reward_col_name, n_iterations=1):\n",
    "        super(EpsilonGreedyReplayer, self).__init__(n_visits, reward_history, item_col_name, visitor_col_name, reward_col_name, n_iterations)\n",
    "    \n",
    "        # parameter to control exploration vs exploitation\n",
    "        self.epsilon = epsilon\n",
    "    \n",
    "    def select_item(self):\n",
    "        \n",
    "        # decide to explore or exploit\n",
    "        if np.random.uniform() < self.epsilon: # explore\n",
    "            item_id = super(EpsilonGreedyReplayer, self).select_item()\n",
    "            \n",
    "        else: # exploit\n",
    "            item_id = np.argmax(self.n_item_rewards)\n",
    "            \n",
    "        return item_id"
   ]
  },
  {
   "cell_type": "markdown",
   "metadata": {},
   "source": [
    "<h3> Hyperparameter Selection"
   ]
  },
  {
   "cell_type": "code",
   "execution_count": 23,
   "metadata": {},
   "outputs": [],
   "source": [
    "n_visits = 20000\n",
    "n_iterations = 20\n",
    "n_test_visits = 1000\n",
    "\n",
    "item_col_name = 'movie_id'\n",
    "visitor_col_name = 'user_id'\n",
    "reward_col_name = 'like'"
   ]
  },
  {
   "cell_type": "markdown",
   "metadata": {},
   "source": [
    "##### $\\epsilon$ = 0.10"
   ]
  },
  {
   "cell_type": "code",
   "execution_count": 24,
   "metadata": {},
   "outputs": [
    {
     "name": "stderr",
     "output_type": "stream",
     "text": [
      "  0%|          | 0/20 [00:00<?, ?it/s]"
     ]
    },
    {
     "name": "stderr",
     "output_type": "stream",
     "text": [
      "100%|██████████| 20/20 [10:53<00:00, 32.69s/it]\n"
     ]
    }
   ],
   "source": [
    "# Male, Young\n",
    "epsilon = 0.10\n",
    "epsilon_10_results_my = EpsilonGreedyReplayer(epsilon, n_visits, male_young_ratings,\n",
    "                                            item_col_name, visitor_col_name, reward_col_name,\n",
    "                                            n_iterations=n_iterations).replay()\n",
    "epsilon_10_results_my_df = pd.DataFrame(epsilon_10_results_my)"
   ]
  },
  {
   "cell_type": "code",
   "execution_count": 28,
   "metadata": {},
   "outputs": [
    {
     "name": "stderr",
     "output_type": "stream",
     "text": [
      "100%|██████████| 20/20 [14:46<00:00, 44.33s/it]\n"
     ]
    }
   ],
   "source": [
    "# Male, Adult\n",
    "epsilon_10_results_ma = EpsilonGreedyReplayer(epsilon, n_visits, male_adult_ratings,\n",
    "                                            item_col_name, visitor_col_name, reward_col_name,\n",
    "                                            n_iterations=n_iterations).replay()\n",
    "epsilon_10_results_ma_df = pd.DataFrame(epsilon_10_results_ma)"
   ]
  },
  {
   "cell_type": "code",
   "execution_count": 29,
   "metadata": {},
   "outputs": [
    {
     "name": "stderr",
     "output_type": "stream",
     "text": [
      "100%|██████████| 20/20 [17:08<00:00, 51.40s/it]\n"
     ]
    }
   ],
   "source": [
    "# Female, Young\n",
    "epsilon_10_results_fy = EpsilonGreedyReplayer(epsilon, n_visits, female_young_ratings,\n",
    "                                            item_col_name, visitor_col_name, reward_col_name,\n",
    "                                            n_iterations=n_iterations).replay()\n",
    "epsilon_10_results_fy_df = pd.DataFrame(epsilon_10_results_fy)"
   ]
  },
  {
   "cell_type": "code",
   "execution_count": 32,
   "metadata": {},
   "outputs": [
    {
     "name": "stderr",
     "output_type": "stream",
     "text": [
      "100%|██████████| 20/20 [16:31<00:00, 49.58s/it]\n"
     ]
    }
   ],
   "source": [
    "# Female, Adult\n",
    "epsilon_10_results_fa = EpsilonGreedyReplayer(epsilon, n_visits, female_adult_ratings,\n",
    "                                            item_col_name, visitor_col_name, reward_col_name,\n",
    "                                            n_iterations=n_iterations).replay()\n",
    "epsilon_10_results_fa_df = pd.DataFrame(epsilon_10_results_fa)"
   ]
  },
  {
   "cell_type": "code",
   "execution_count": 33,
   "metadata": {},
   "outputs": [],
   "source": [
    "epsilon_10_results_my_df.to_csv('output/epsilon_10_my.csv')\n",
    "epsilon_10_results_ma_df.to_csv('output/epsilon_10_ma.csv')\n",
    "epsilon_10_results_fy_df.to_csv('output/epsilon_10_fy.csv')\n",
    "epsilon_10_results_fa_df.to_csv('output/epsilon_10_fa.csv')\n"
   ]
  },
  {
   "cell_type": "code",
   "execution_count": 34,
   "metadata": {},
   "outputs": [],
   "source": [
    "epsilon_10_results_my_df = pd.read_csv('output/epsilon_10_my.csv', index_col=0)\n",
    "epsilon_10_results_ma_df = pd.read_csv('output/epsilon_10_ma.csv', index_col=0)\n",
    "epsilon_10_results_fy_df = pd.read_csv('output/epsilon_10_fy.csv', index_col=0)\n",
    "epsilon_10_results_fa_df = pd.read_csv('output/epsilon_10_fa.csv', index_col=0)"
   ]
  },
  {
   "cell_type": "markdown",
   "metadata": {},
   "source": [
    "##### $\\epsilon$ = 0.05"
   ]
  },
  {
   "cell_type": "code",
   "execution_count": 39,
   "metadata": {},
   "outputs": [
    {
     "name": "stderr",
     "output_type": "stream",
     "text": [
      "100%|██████████| 20/20 [10:49<00:00, 32.50s/it]\n"
     ]
    }
   ],
   "source": [
    "# Male, Young\n",
    "epsilon = 0.05\n",
    "epsilon_05_results_my = EpsilonGreedyReplayer(epsilon, n_visits, male_young_ratings,\n",
    "                                            item_col_name, visitor_col_name, reward_col_name,\n",
    "                                            n_iterations=n_iterations).replay()\n",
    "epsilon_05_results_my_df = pd.DataFrame(epsilon_05_results_my)"
   ]
  },
  {
   "cell_type": "code",
   "execution_count": 36,
   "metadata": {},
   "outputs": [
    {
     "name": "stderr",
     "output_type": "stream",
     "text": [
      "100%|██████████| 20/20 [12:50<00:00, 38.52s/it]\n"
     ]
    }
   ],
   "source": [
    "# Male, Adult\n",
    "epsilon = 0.05\n",
    "epsilon_05_results_ma = EpsilonGreedyReplayer(epsilon, n_visits, male_adult_ratings,\n",
    "                                            item_col_name, visitor_col_name, reward_col_name,\n",
    "                                            n_iterations=n_iterations).replay()\n",
    "epsilon_05_results_ma_df = pd.DataFrame(epsilon_05_results_ma)"
   ]
  },
  {
   "cell_type": "code",
   "execution_count": 38,
   "metadata": {},
   "outputs": [
    {
     "name": "stderr",
     "output_type": "stream",
     "text": [
      "100%|██████████| 20/20 [17:28<00:00, 52.41s/it]\n"
     ]
    }
   ],
   "source": [
    "# Female, Young\n",
    "epsilon = 0.05\n",
    "epsilon_05_results_fy = EpsilonGreedyReplayer(epsilon, n_visits, female_young_ratings,\n",
    "                                            item_col_name, visitor_col_name, reward_col_name,\n",
    "                                            n_iterations=n_iterations).replay()\n",
    "epsilon_05_results_fy_df = pd.DataFrame(epsilon_05_results_fy)"
   ]
  },
  {
   "cell_type": "code",
   "execution_count": 41,
   "metadata": {},
   "outputs": [
    {
     "name": "stderr",
     "output_type": "stream",
     "text": [
      "100%|██████████| 20/20 [15:45<00:00, 47.29s/it]\n"
     ]
    }
   ],
   "source": [
    "# Female, Adult\n",
    "epsilon = 0.05\n",
    "epsilon_05_results_fa = EpsilonGreedyReplayer(epsilon, n_visits, female_adult_ratings,\n",
    "                                            item_col_name, visitor_col_name, reward_col_name,\n",
    "                                            n_iterations=n_iterations).replay()\n",
    "epsilon_05_results_fa_df = pd.DataFrame(epsilon_05_results_fa)"
   ]
  },
  {
   "cell_type": "code",
   "execution_count": 42,
   "metadata": {},
   "outputs": [],
   "source": [
    "epsilon_05_results_my_df.to_csv('output/epsilon_05_my.csv')\n",
    "epsilon_05_results_ma_df.to_csv('output/epsilon_05_ma.csv')\n",
    "epsilon_05_results_fy_df.to_csv('output/epsilon_05_fy.csv')\n",
    "epsilon_05_results_fa_df.to_csv('output/epsilon_05_fa.csv')"
   ]
  },
  {
   "cell_type": "code",
   "execution_count": 43,
   "metadata": {},
   "outputs": [],
   "source": [
    "epsilon_05_results_my_df = pd.read_csv('output/epsilon_05_my.csv', index_col=0)\n",
    "epsilon_05_results_ma_df = pd.read_csv('output/epsilon_05_ma.csv', index_col=0)\n",
    "epsilon_05_results_fy_df = pd.read_csv('output/epsilon_05_fy.csv', index_col=0)\n",
    "epsilon_05_results_fa_df = pd.read_csv('output/epsilon_05_fa.csv', index_col=0)"
   ]
  },
  {
   "cell_type": "code",
   "execution_count": 51,
   "metadata": {},
   "outputs": [],
   "source": [
    "epsilon_05_avg_results_my_df = epsilon_05_results_my_df.groupby('visit', as_index=False).mean()\n",
    "epsilon_10_avg_results_my_df = epsilon_10_results_my_df.groupby('visit', as_index=False).mean()\n",
    "\n",
    "epsilon_05_avg_results_ma_df = epsilon_05_results_ma_df.groupby('visit', as_index=False).mean()\n",
    "epsilon_10_avg_results_ma_df = epsilon_10_results_ma_df.groupby('visit', as_index=False).mean()\n",
    "\n",
    "epsilon_05_avg_results_fy_df = epsilon_05_results_fy_df.groupby('visit', as_index=False).mean()\n",
    "epsilon_10_avg_results_fy_df = epsilon_10_results_fy_df.groupby('visit', as_index=False).mean()\n",
    "\n",
    "epsilon_05_avg_results_fa_df = epsilon_05_results_fa_df.groupby('visit', as_index=False).mean()\n",
    "epsilon_10_avg_results_fa_df = epsilon_10_results_fa_df.groupby('visit', as_index=False).mean()"
   ]
  },
  {
   "cell_type": "code",
   "execution_count": 56,
   "metadata": {},
   "outputs": [
    {
     "name": "stderr",
     "output_type": "stream",
     "text": [
      "/var/folders/dl/r4pqw5gj1bn541sr99s_h9jm0000gn/T/ipykernel_36915/2107281566.py:13: UserWarning: FixedFormatter should only be used together with FixedLocator\n",
      "  ax.set_yticklabels((ax.get_yticks()*100).astype(int))\n"
     ]
    },
    {
     "data": {
      "image/png": "[encoded data removed]",
      "text/plain": [
       "<Figure size 1200x1000 with 1 Axes>"
      ]
     },
     "metadata": {},
     "output_type": "display_data"
    }
   ],
   "source": [
    "fig, ax = plt.subplots(figsize=(12,10))\n",
    "\n",
    "for (avg_results_my_df, style) in [(epsilon_05_avg_results_my_df, 'b--'),\n",
    "                                (epsilon_10_avg_results_my_df, 'r-')]:\n",
    "    \n",
    "    ax.plot(avg_results_my_df.visit, avg_results_my_df.fraction_relevant, style, linewidth=3.5)\n",
    "\n",
    "ax.set_title('Male, Young Group: Percentage of Liked Recommendations')\n",
    "ax.set_xlabel('Recommendation #')\n",
    "ax.set_ylabel('% of Recs Liked')\n",
    "\n",
    "# rescale the y-axis tick labels to show them as a percentage\n",
    "ax.set_yticklabels((ax.get_yticks()*100).astype(int))\n",
    "\n",
    "ax.legend(['$\\epsilon$ = 0.03',\n",
    "           '$\\epsilon$ = 0.05',\n",
    "           '$\\epsilon$ = 0.10'\n",
    "          ],\n",
    "          loc='lower right'\n",
    "         )\n",
    "\n",
    "plt.tight_layout()\n",
    "plt.show()"
   ]
  },
  {
   "cell_type": "code",
   "execution_count": 57,
   "metadata": {},
   "outputs": [
    {
     "name": "stderr",
     "output_type": "stream",
     "text": [
      "/var/folders/dl/r4pqw5gj1bn541sr99s_h9jm0000gn/T/ipykernel_36915/899888967.py:13: UserWarning: FixedFormatter should only be used together with FixedLocator\n",
      "  ax.set_yticklabels((ax.get_yticks()*100).astype(int))\n"
     ]
    },
    {
     "data": {
      "image/png": "[encoded data removed]",
      "text/plain": [
       "<Figure size 1200x1000 with 1 Axes>"
      ]
     },
     "metadata": {},
     "output_type": "display_data"
    }
   ],
   "source": [
    "fig, ax = plt.subplots(figsize=(12,10))\n",
    "\n",
    "for (avg_results_ma_df, style) in [(epsilon_05_avg_results_ma_df, 'b--'),\n",
    "                                (epsilon_10_avg_results_ma_df, 'r-')]:\n",
    "    \n",
    "    ax.plot(avg_results_ma_df.visit, avg_results_ma_df.fraction_relevant, style, linewidth=3.5)\n",
    "\n",
    "ax.set_title('Male, Adult Group: Percentage of Liked Recommendations')\n",
    "ax.set_xlabel('Recommendation #')\n",
    "ax.set_ylabel('% of Recs Liked')\n",
    "\n",
    "# rescale the y-axis tick labels to show them as a percentage\n",
    "ax.set_yticklabels((ax.get_yticks()*100).astype(int))\n",
    "\n",
    "ax.legend(['$\\epsilon$ = 0.03',\n",
    "           '$\\epsilon$ = 0.05',\n",
    "           '$\\epsilon$ = 0.10'\n",
    "          ],\n",
    "          loc='lower right'\n",
    "         )\n",
    "\n",
    "plt.tight_layout()\n",
    "plt.show()"
   ]
  },
  {
   "cell_type": "code",
   "execution_count": 58,
   "metadata": {},
   "outputs": [
    {
     "name": "stderr",
     "output_type": "stream",
     "text": [
      "/var/folders/dl/r4pqw5gj1bn541sr99s_h9jm0000gn/T/ipykernel_36915/2090298753.py:13: UserWarning: FixedFormatter should only be used together with FixedLocator\n",
      "  ax.set_yticklabels((ax.get_yticks()*100).astype(int))\n"
     ]
    },
    {
     "data": {
      "image/png": "[encoded data removed]",
      "text/plain": [
       "<Figure size 1200x1000 with 1 Axes>"
      ]
     },
     "metadata": {},
     "output_type": "display_data"
    }
   ],
   "source": [
    "fig, ax = plt.subplots(figsize=(12,10))\n",
    "\n",
    "for (avg_results_fy_df, style) in [(epsilon_05_avg_results_fy_df, 'b--'),\n",
    "                                (epsilon_10_avg_results_fy_df, 'r-')]:\n",
    "    \n",
    "    ax.plot(avg_results_fy_df.visit, avg_results_fy_df.fraction_relevant, style, linewidth=3.5)\n",
    "\n",
    "ax.set_title('Female, Young Group: Percentage of Liked Recommendations')\n",
    "ax.set_xlabel('Recommendation #')\n",
    "ax.set_ylabel('% of Recs Liked')\n",
    "\n",
    "# rescale the y-axis tick labels to show them as a percentage\n",
    "ax.set_yticklabels((ax.get_yticks()*100).astype(int))\n",
    "\n",
    "ax.legend(['$\\epsilon$ = 0.03',\n",
    "           '$\\epsilon$ = 0.05',\n",
    "           '$\\epsilon$ = 0.10'\n",
    "          ],\n",
    "          loc='lower right'\n",
    "         )\n",
    "\n",
    "plt.tight_layout()\n",
    "plt.show()"
   ]
  },
  {
   "cell_type": "code",
   "execution_count": 59,
   "metadata": {},
   "outputs": [
    {
     "name": "stderr",
     "output_type": "stream",
     "text": [
      "/var/folders/dl/r4pqw5gj1bn541sr99s_h9jm0000gn/T/ipykernel_36915/2384971517.py:13: UserWarning: FixedFormatter should only be used together with FixedLocator\n",
      "  ax.set_yticklabels((ax.get_yticks()*100).astype(int))\n"
     ]
    },
    {
     "data": {
      "image/png": "[encoded data removed]",
      "text/plain": [
       "<Figure size 1200x1000 with 1 Axes>"
      ]
     },
     "metadata": {},
     "output_type": "display_data"
    }
   ],
   "source": [
    "fig, ax = plt.subplots(figsize=(12,10))\n",
    "\n",
    "for (avg_results_fa_df, style) in [(epsilon_05_avg_results_fa_df, 'b--'),\n",
    "                                (epsilon_10_avg_results_fa_df, 'r-')]:\n",
    "    \n",
    "    ax.plot(avg_results_fa_df.visit, avg_results_fa_df.fraction_relevant, style, linewidth=3.5)\n",
    "\n",
    "ax.set_title('Female, Adult Group: Percentage of Liked Recommendations')\n",
    "ax.set_xlabel('Recommendation #')\n",
    "ax.set_ylabel('% of Recs Liked')\n",
    "\n",
    "# rescale the y-axis tick labels to show them as a percentage\n",
    "ax.set_yticklabels((ax.get_yticks()*100).astype(int))\n",
    "\n",
    "ax.legend(['$\\epsilon$ = 0.03',\n",
    "           '$\\epsilon$ = 0.05',\n",
    "           '$\\epsilon$ = 0.10'\n",
    "          ],\n",
    "          loc='lower right'\n",
    "         )\n",
    "\n",
    "plt.tight_layout()\n",
    "plt.show()"
   ]
  },
  {
   "cell_type": "markdown",
   "metadata": {},
   "source": [
    "From the graph it is evident $\\epsilon$ = 0.10 does not perform as optimal as $\\epsilon$ = 0.05 for each user category.  \n",
    "Hence we choose $\\epsilon$ = 0.05 for further analysis as it ensures optimal performance while maintaining a higher probability for exploration."
   ]
  }
 ],
 "metadata": {
  "kernelspec": {
   "display_name": "base",
   "language": "python",
   "name": "python3"
  },
  "language_info": {
   "codemirror_mode": {
    "name": "ipython",
    "version": 3
   },
   "file_extension": ".py",
   "mimetype": "text/x-python",
   "name": "python",
   "nbconvert_exporter": "python",
   "pygments_lexer": "ipython3",
   "version": "3.10.9"
  },
  "orig_nbformat": 4
 },
 "nbformat": 4,
 "nbformat_minor": 2
}
