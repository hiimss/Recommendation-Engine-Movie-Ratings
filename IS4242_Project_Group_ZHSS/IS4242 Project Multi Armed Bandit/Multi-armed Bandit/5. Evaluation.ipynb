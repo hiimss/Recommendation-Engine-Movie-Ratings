{
 "cells": [
  {
   "cell_type": "markdown",
   "metadata": {},
   "source": [
    "<h3>Import Libraries"
   ]
  },
  {
   "cell_type": "code",
   "execution_count": 3,
   "metadata": {},
   "outputs": [],
   "source": [
    "import pandas as pd\n",
    "import numpy as np\n",
    "%matplotlib inline\n",
    "from matplotlib import pyplot as plt\n",
    "import seaborn as sns"
   ]
  },
  {
   "cell_type": "markdown",
   "metadata": {},
   "source": [
    "<h3> Read data"
   ]
  },
  {
   "cell_type": "code",
   "execution_count": 74,
   "metadata": {},
   "outputs": [],
   "source": [
    "# Read the ratings data for 4 groups respectively\n",
    "rating_fy = pd.read_csv(\"processed_data/female_young_ratings.csv\")\n",
    "rating_fa = pd.read_csv(\"processed_data/female_adult_ratings.csv\")\n",
    "rating_my = pd.read_csv(\"processed_data/male_young_ratings.csv\")\n",
    "rating_ma = pd.read_csv(\"processed_data/male_adult_ratings.csv\")"
   ]
  },
  {
   "cell_type": "code",
   "execution_count": 75,
   "metadata": {},
   "outputs": [],
   "source": [
    "# Read the recommended 5 best movie titles for 4 groups respectively\n",
    "recommendation_fy = pd.read_csv(\"output/Female_Young_recommendation.csv\", index_col= 0)['Recommendation'].tolist()\n",
    "recommendation_fa = pd.read_csv(\"output/Female_Adult_recommendation.csv\", index_col= 0)['Recommendation'].tolist()\n",
    "recommendation_my = pd.read_csv(\"output/Male_Young_recommendation.csv\", index_col= 0)['Recommendation'].tolist()\n",
    "recommendation_ma = pd.read_csv(\"output/Male_Adult_recommendation.csv\", index_col= 0)['Recommendation'].tolist()"
   ]
  },
  {
   "cell_type": "markdown",
   "metadata": {},
   "source": [
    "<h1> Evaluation"
   ]
  },
  {
   "cell_type": "code",
   "execution_count": 76,
   "metadata": {},
   "outputs": [],
   "source": [
    "# Define a function to evalute the recommendations by checking against rating\n",
    "def evaluate(rating, recommendation):\n",
    "    # Calculate the count of liked ratings for each movie_title\n",
    "    liked_ratings_count = rating[rating['like'] == True].groupby('movie title')['like'].count().reset_index()\n",
    "\n",
    "    # Calculate the total ratings count for each movie_title\n",
    "    total_ratings_count = rating.groupby('movie title')['like'].count().reset_index()\n",
    "\n",
    "    # Merge the two DataFrames to get the count of liked ratings and total ratings for each movie_title\n",
    "    merged_df = liked_ratings_count.merge(total_ratings_count, on='movie title', suffixes=('_count', '_total'))\n",
    "\n",
    "    # Calculate the percentage of likes\n",
    "    merged_df['like_percentage'] = (merged_df['like_count'] / merged_df['like_total']) * 100\n",
    "\n",
    "    # Sort the DataFrame by like_percentage in descending order\n",
    "    sorted_df = merged_df.sort_values(by='like_percentage', ascending=False)\n",
    "\n",
    "    # Find the 5 movies that has the highest percentage of likes\n",
    "    best_5 = sorted_df[:5]['movie title'].tolist()\n",
    "    print(f'5 Most Liked Movies: {best_5}')\n",
    "    print(f'5 Recommendations: {recommendation}')\n",
    "\n",
    "    # Define a function to compare the percentage overlap between top 5 recommendations and top 5 liked\n",
    "    def percentage_overlap(list1, list2):\n",
    "        return  len(set(list1) & set(list2)) / 5 * 100 # Convert to percentage\n",
    "\n",
    "    return f\"Percentage Overlap = {percentage_overlap(best_5, recommendation)}%\""
   ]
  },
  {
   "cell_type": "markdown",
   "metadata": {},
   "source": [
    "<h5> Female, Young Group"
   ]
  },
  {
   "cell_type": "code",
   "execution_count": 77,
   "metadata": {},
   "outputs": [
    {
     "name": "stdout",
     "output_type": "stream",
     "text": [
      "Female, Young: \n",
      "5 Most Liked Movies: ['Shawshank Redemption, The', 'Casablanca', 'Usual Suspects, The', \"Schindler's List\", 'Rear Window']\n",
      "5 Recommendations: ['Casablanca', 'Shawshank Redemption, The', \"Schindler's List\", 'Usual Suspects, The', \"One Flew Over the Cuckoo's Nest\"]\n",
      "Percentage Overlap = 80.0%\n"
     ]
    }
   ],
   "source": [
    "# Display the evaluation results for group Female, Young\n",
    "print(f'Female, Young: ')\n",
    "print(evaluate(rating_fy,recommendation_fy))"
   ]
  },
  {
   "cell_type": "markdown",
   "metadata": {},
   "source": [
    "<h5> Female, Young Group"
   ]
  },
  {
   "cell_type": "code",
   "execution_count": 70,
   "metadata": {},
   "outputs": [
    {
     "name": "stdout",
     "output_type": "stream",
     "text": [
      "Female, Adult: \n",
      "5 Most Liked Movies: [\"Schindler's List\", 'Fugitive, The', 'Boot, Das', 'Sense and Sensibility', 'To Kill a Mockingbird']\n",
      "5 Recommendations: [\"Schindler's List\", 'Sense and Sensibility', 'Casablanca', 'Boot, Das', 'To Kill a Mockingbird']\n",
      "Percentage Overlap = 80.0%\n"
     ]
    }
   ],
   "source": [
    "# Display the evaluation results for group Female, Adult\n",
    "print(f'Female, Adult: ')\n",
    "print(evaluate(rating_fa,recommendation_fa))"
   ]
  },
  {
   "cell_type": "markdown",
   "metadata": {},
   "source": [
    "<h5> Male, Young Group"
   ]
  },
  {
   "cell_type": "code",
   "execution_count": 78,
   "metadata": {},
   "outputs": [
    {
     "name": "stdout",
     "output_type": "stream",
     "text": [
      "Male, Young: \n",
      "5 Most Liked Movies: ['Silence of the Lambs, The', 'Godfather, The', 'Shawshank Redemption, The', 'Casablanca', 'Empire Strikes Back, The']\n",
      "5 Recommendations: ['Godfather, The', 'Silence of the Lambs, The', 'Shawshank Redemption, The', 'Casablanca', 'Star Wars']\n",
      "Percentage Overlap = 80.0%\n"
     ]
    }
   ],
   "source": [
    "# Display the evaluation results for group Male, Young\n",
    "print(f'Male, Young: ')\n",
    "print(evaluate(rating_my,recommendation_my))"
   ]
  },
  {
   "cell_type": "markdown",
   "metadata": {},
   "source": [
    "<h5> Male, Adult Group"
   ]
  },
  {
   "cell_type": "code",
   "execution_count": 79,
   "metadata": {},
   "outputs": [
    {
     "name": "stdout",
     "output_type": "stream",
     "text": [
      "Male, Adult: \n",
      "5 Most Liked Movies: ['Rear Window', 'To Kill a Mockingbird', \"Schindler's List\", \"One Flew Over the Cuckoo's Nest\", 'Shawshank Redemption, The']\n",
      "5 Recommendations: ['To Kill a Mockingbird', \"One Flew Over the Cuckoo's Nest\", \"Schindler's List\", 'Shawshank Redemption, The', 'Rear Window']\n",
      "Percentage Overlap = 100.0%\n"
     ]
    }
   ],
   "source": [
    "# Display the evaluation results for group Male, Adult\n",
    "print(f'Male, Adult: ')\n",
    "print(evaluate(rating_ma,recommendation_ma))"
   ]
  }
 ],
 "metadata": {
  "kernelspec": {
   "display_name": "base",
   "language": "python",
   "name": "python3"
  },
  "language_info": {
   "codemirror_mode": {
    "name": "ipython",
    "version": 3
   },
   "file_extension": ".py",
   "mimetype": "text/x-python",
   "name": "python",
   "nbconvert_exporter": "python",
   "pygments_lexer": "ipython3",
   "version": "3.10.9"
  },
  "orig_nbformat": 4
 },
 "nbformat": 4,
 "nbformat_minor": 2
}
