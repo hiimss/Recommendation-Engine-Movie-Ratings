{
 "cells": [
  {
   "cell_type": "markdown",
   "metadata": {},
   "source": [
    "# Approach 2: Neural Networks (Multi-Layer Perceptron)"
   ]
  },
  {
   "cell_type": "markdown",
   "metadata": {},
   "source": [
    "## Objective: Utilize Predictive Analytics to Improve Customer Engagement by Evaluating Movie Preferences through Customer Likes and Dislikes"
   ]
  },
  {
   "cell_type": "code",
   "execution_count": 1,
   "metadata": {},
   "outputs": [],
   "source": [
    "import pandas as pd\n",
    "import seaborn as sns\n",
    "import matplotlib.pyplot as plt\n",
    "from sklearn.preprocessing import StandardScaler\n",
    "from sklearn.neural_network import MLPClassifier\n",
    "from sklearn.model_selection import KFold, GridSearchCV\n",
    "from sklearn.metrics import accuracy_score, precision_score, recall_score, f1_score, roc_auc_score, roc_curve"
   ]
  },
  {
   "cell_type": "markdown",
   "metadata": {},
   "source": [
    "## Step 2: Building the MLP Model"
   ]
  },
  {
   "cell_type": "markdown",
   "metadata": {},
   "source": [
    "### 2.1. Loading the Data"
   ]
  },
  {
   "cell_type": "code",
   "execution_count": 2,
   "metadata": {},
   "outputs": [],
   "source": [
    "# Loading the preprocessed data from the CSV files created during the 'IS4242 NN Preprocessing' stage\n",
    "ua_train = pd.read_csv(\"ua_train.csv\", encoding = 'iso-8859-1',na_values = ['NaN', ''], infer_datetime_format = True)\n",
    "ua_test = pd.read_csv(\"ua_test.csv\", encoding = 'iso-8859-1',na_values = ['NaN', ''], infer_datetime_format = True)"
   ]
  },
  {
   "cell_type": "markdown",
   "metadata": {},
   "source": [
    "Inspecting the structure of ua_train "
   ]
  },
  {
   "cell_type": "code",
   "execution_count": 3,
   "metadata": {},
   "outputs": [
    {
     "data": {
      "text/html": [
       "<div>\n",
       "<style scoped>\n",
       "    .dataframe tbody tr th:only-of-type {\n",
       "        vertical-align: middle;\n",
       "    }\n",
       "\n",
       "    .dataframe tbody tr th {\n",
       "        vertical-align: top;\n",
       "    }\n",
       "\n",
       "    .dataframe thead th {\n",
       "        text-align: right;\n",
       "    }\n",
       "</style>\n",
       "<table border=\"1\" class=\"dataframe\">\n",
       "  <thead>\n",
       "    <tr style=\"text-align: right;\">\n",
       "      <th></th>\n",
       "      <th>unknown</th>\n",
       "      <th>Action</th>\n",
       "      <th>Adventure</th>\n",
       "      <th>Animation</th>\n",
       "      <th>Children's</th>\n",
       "      <th>Comedy</th>\n",
       "      <th>Crime</th>\n",
       "      <th>Documentary</th>\n",
       "      <th>Drama</th>\n",
       "      <th>Fantasy</th>\n",
       "      <th>...</th>\n",
       "      <th>occupation_student</th>\n",
       "      <th>occupation_technician</th>\n",
       "      <th>occupation_writer</th>\n",
       "      <th>release_year_1940-1949</th>\n",
       "      <th>release_year_1950-1959</th>\n",
       "      <th>release_year_1960-1969</th>\n",
       "      <th>release_year_1970-1979</th>\n",
       "      <th>release_year_1980-1989</th>\n",
       "      <th>release_year_1990-1999</th>\n",
       "      <th>release_year_before 1940</th>\n",
       "    </tr>\n",
       "  </thead>\n",
       "  <tbody>\n",
       "    <tr>\n",
       "      <th>0</th>\n",
       "      <td>0</td>\n",
       "      <td>0</td>\n",
       "      <td>0</td>\n",
       "      <td>1</td>\n",
       "      <td>1</td>\n",
       "      <td>1</td>\n",
       "      <td>0</td>\n",
       "      <td>0</td>\n",
       "      <td>0</td>\n",
       "      <td>0</td>\n",
       "      <td>...</td>\n",
       "      <td>0</td>\n",
       "      <td>1</td>\n",
       "      <td>0</td>\n",
       "      <td>0</td>\n",
       "      <td>0</td>\n",
       "      <td>0</td>\n",
       "      <td>0</td>\n",
       "      <td>0</td>\n",
       "      <td>1</td>\n",
       "      <td>0</td>\n",
       "    </tr>\n",
       "    <tr>\n",
       "      <th>1</th>\n",
       "      <td>0</td>\n",
       "      <td>1</td>\n",
       "      <td>1</td>\n",
       "      <td>0</td>\n",
       "      <td>0</td>\n",
       "      <td>0</td>\n",
       "      <td>0</td>\n",
       "      <td>0</td>\n",
       "      <td>0</td>\n",
       "      <td>0</td>\n",
       "      <td>...</td>\n",
       "      <td>0</td>\n",
       "      <td>1</td>\n",
       "      <td>0</td>\n",
       "      <td>0</td>\n",
       "      <td>0</td>\n",
       "      <td>0</td>\n",
       "      <td>0</td>\n",
       "      <td>0</td>\n",
       "      <td>1</td>\n",
       "      <td>0</td>\n",
       "    </tr>\n",
       "    <tr>\n",
       "      <th>2</th>\n",
       "      <td>0</td>\n",
       "      <td>0</td>\n",
       "      <td>0</td>\n",
       "      <td>0</td>\n",
       "      <td>0</td>\n",
       "      <td>0</td>\n",
       "      <td>0</td>\n",
       "      <td>0</td>\n",
       "      <td>0</td>\n",
       "      <td>0</td>\n",
       "      <td>...</td>\n",
       "      <td>0</td>\n",
       "      <td>1</td>\n",
       "      <td>0</td>\n",
       "      <td>0</td>\n",
       "      <td>0</td>\n",
       "      <td>0</td>\n",
       "      <td>0</td>\n",
       "      <td>0</td>\n",
       "      <td>1</td>\n",
       "      <td>0</td>\n",
       "    </tr>\n",
       "    <tr>\n",
       "      <th>3</th>\n",
       "      <td>0</td>\n",
       "      <td>1</td>\n",
       "      <td>0</td>\n",
       "      <td>0</td>\n",
       "      <td>0</td>\n",
       "      <td>1</td>\n",
       "      <td>0</td>\n",
       "      <td>0</td>\n",
       "      <td>1</td>\n",
       "      <td>0</td>\n",
       "      <td>...</td>\n",
       "      <td>0</td>\n",
       "      <td>1</td>\n",
       "      <td>0</td>\n",
       "      <td>0</td>\n",
       "      <td>0</td>\n",
       "      <td>0</td>\n",
       "      <td>0</td>\n",
       "      <td>0</td>\n",
       "      <td>1</td>\n",
       "      <td>0</td>\n",
       "    </tr>\n",
       "    <tr>\n",
       "      <th>4</th>\n",
       "      <td>0</td>\n",
       "      <td>0</td>\n",
       "      <td>0</td>\n",
       "      <td>0</td>\n",
       "      <td>0</td>\n",
       "      <td>0</td>\n",
       "      <td>1</td>\n",
       "      <td>0</td>\n",
       "      <td>1</td>\n",
       "      <td>0</td>\n",
       "      <td>...</td>\n",
       "      <td>0</td>\n",
       "      <td>1</td>\n",
       "      <td>0</td>\n",
       "      <td>0</td>\n",
       "      <td>0</td>\n",
       "      <td>0</td>\n",
       "      <td>0</td>\n",
       "      <td>0</td>\n",
       "      <td>1</td>\n",
       "      <td>0</td>\n",
       "    </tr>\n",
       "  </tbody>\n",
       "</table>\n",
       "<p>5 rows × 55 columns</p>\n",
       "</div>"
      ],
      "text/plain": [
       "   unknown  Action  Adventure  Animation  Children's  Comedy  Crime  \\\n",
       "0        0       0          0          1           1       1      0   \n",
       "1        0       1          1          0           0       0      0   \n",
       "2        0       0          0          0           0       0      0   \n",
       "3        0       1          0          0           0       1      0   \n",
       "4        0       0          0          0           0       0      1   \n",
       "\n",
       "   Documentary  Drama  Fantasy  ...  occupation_student  \\\n",
       "0            0      0        0  ...                   0   \n",
       "1            0      0        0  ...                   0   \n",
       "2            0      0        0  ...                   0   \n",
       "3            0      1        0  ...                   0   \n",
       "4            0      1        0  ...                   0   \n",
       "\n",
       "   occupation_technician  occupation_writer  release_year_1940-1949  \\\n",
       "0                      1                  0                       0   \n",
       "1                      1                  0                       0   \n",
       "2                      1                  0                       0   \n",
       "3                      1                  0                       0   \n",
       "4                      1                  0                       0   \n",
       "\n",
       "   release_year_1950-1959  release_year_1960-1969  release_year_1970-1979  \\\n",
       "0                       0                       0                       0   \n",
       "1                       0                       0                       0   \n",
       "2                       0                       0                       0   \n",
       "3                       0                       0                       0   \n",
       "4                       0                       0                       0   \n",
       "\n",
       "   release_year_1980-1989  release_year_1990-1999  release_year_before 1940  \n",
       "0                       0                       1                         0  \n",
       "1                       0                       1                         0  \n",
       "2                       0                       1                         0  \n",
       "3                       0                       1                         0  \n",
       "4                       0                       1                         0  \n",
       "\n",
       "[5 rows x 55 columns]"
      ]
     },
     "execution_count": 3,
     "metadata": {},
     "output_type": "execute_result"
    }
   ],
   "source": [
    "ua_train.head()"
   ]
  },
  {
   "cell_type": "markdown",
   "metadata": {},
   "source": [
    "Inspecting the structure of ua_test "
   ]
  },
  {
   "cell_type": "code",
   "execution_count": 4,
   "metadata": {},
   "outputs": [
    {
     "data": {
      "text/html": [
       "<div>\n",
       "<style scoped>\n",
       "    .dataframe tbody tr th:only-of-type {\n",
       "        vertical-align: middle;\n",
       "    }\n",
       "\n",
       "    .dataframe tbody tr th {\n",
       "        vertical-align: top;\n",
       "    }\n",
       "\n",
       "    .dataframe thead th {\n",
       "        text-align: right;\n",
       "    }\n",
       "</style>\n",
       "<table border=\"1\" class=\"dataframe\">\n",
       "  <thead>\n",
       "    <tr style=\"text-align: right;\">\n",
       "      <th></th>\n",
       "      <th>unknown</th>\n",
       "      <th>Action</th>\n",
       "      <th>Adventure</th>\n",
       "      <th>Animation</th>\n",
       "      <th>Children's</th>\n",
       "      <th>Comedy</th>\n",
       "      <th>Crime</th>\n",
       "      <th>Documentary</th>\n",
       "      <th>Drama</th>\n",
       "      <th>Fantasy</th>\n",
       "      <th>...</th>\n",
       "      <th>occupation_student</th>\n",
       "      <th>occupation_technician</th>\n",
       "      <th>occupation_writer</th>\n",
       "      <th>release_year_1940-1949</th>\n",
       "      <th>release_year_1950-1959</th>\n",
       "      <th>release_year_1960-1969</th>\n",
       "      <th>release_year_1970-1979</th>\n",
       "      <th>release_year_1980-1989</th>\n",
       "      <th>release_year_1990-1999</th>\n",
       "      <th>release_year_before 1940</th>\n",
       "    </tr>\n",
       "  </thead>\n",
       "  <tbody>\n",
       "    <tr>\n",
       "      <th>0</th>\n",
       "      <td>0</td>\n",
       "      <td>0</td>\n",
       "      <td>0</td>\n",
       "      <td>0</td>\n",
       "      <td>0</td>\n",
       "      <td>0</td>\n",
       "      <td>0</td>\n",
       "      <td>0</td>\n",
       "      <td>1</td>\n",
       "      <td>0</td>\n",
       "      <td>...</td>\n",
       "      <td>0</td>\n",
       "      <td>1</td>\n",
       "      <td>0</td>\n",
       "      <td>0</td>\n",
       "      <td>0</td>\n",
       "      <td>0</td>\n",
       "      <td>0</td>\n",
       "      <td>0</td>\n",
       "      <td>1</td>\n",
       "      <td>0</td>\n",
       "    </tr>\n",
       "    <tr>\n",
       "      <th>1</th>\n",
       "      <td>0</td>\n",
       "      <td>1</td>\n",
       "      <td>1</td>\n",
       "      <td>0</td>\n",
       "      <td>0</td>\n",
       "      <td>0</td>\n",
       "      <td>0</td>\n",
       "      <td>0</td>\n",
       "      <td>0</td>\n",
       "      <td>0</td>\n",
       "      <td>...</td>\n",
       "      <td>0</td>\n",
       "      <td>1</td>\n",
       "      <td>0</td>\n",
       "      <td>0</td>\n",
       "      <td>0</td>\n",
       "      <td>0</td>\n",
       "      <td>0</td>\n",
       "      <td>0</td>\n",
       "      <td>1</td>\n",
       "      <td>0</td>\n",
       "    </tr>\n",
       "    <tr>\n",
       "      <th>2</th>\n",
       "      <td>0</td>\n",
       "      <td>0</td>\n",
       "      <td>0</td>\n",
       "      <td>0</td>\n",
       "      <td>0</td>\n",
       "      <td>1</td>\n",
       "      <td>0</td>\n",
       "      <td>0</td>\n",
       "      <td>0</td>\n",
       "      <td>0</td>\n",
       "      <td>...</td>\n",
       "      <td>0</td>\n",
       "      <td>1</td>\n",
       "      <td>0</td>\n",
       "      <td>0</td>\n",
       "      <td>0</td>\n",
       "      <td>0</td>\n",
       "      <td>0</td>\n",
       "      <td>0</td>\n",
       "      <td>1</td>\n",
       "      <td>0</td>\n",
       "    </tr>\n",
       "    <tr>\n",
       "      <th>3</th>\n",
       "      <td>0</td>\n",
       "      <td>1</td>\n",
       "      <td>0</td>\n",
       "      <td>0</td>\n",
       "      <td>0</td>\n",
       "      <td>0</td>\n",
       "      <td>0</td>\n",
       "      <td>0</td>\n",
       "      <td>0</td>\n",
       "      <td>0</td>\n",
       "      <td>...</td>\n",
       "      <td>0</td>\n",
       "      <td>1</td>\n",
       "      <td>0</td>\n",
       "      <td>0</td>\n",
       "      <td>0</td>\n",
       "      <td>0</td>\n",
       "      <td>0</td>\n",
       "      <td>0</td>\n",
       "      <td>1</td>\n",
       "      <td>0</td>\n",
       "    </tr>\n",
       "    <tr>\n",
       "      <th>4</th>\n",
       "      <td>0</td>\n",
       "      <td>0</td>\n",
       "      <td>0</td>\n",
       "      <td>0</td>\n",
       "      <td>0</td>\n",
       "      <td>0</td>\n",
       "      <td>0</td>\n",
       "      <td>0</td>\n",
       "      <td>1</td>\n",
       "      <td>0</td>\n",
       "      <td>...</td>\n",
       "      <td>0</td>\n",
       "      <td>0</td>\n",
       "      <td>0</td>\n",
       "      <td>0</td>\n",
       "      <td>0</td>\n",
       "      <td>0</td>\n",
       "      <td>0</td>\n",
       "      <td>0</td>\n",
       "      <td>1</td>\n",
       "      <td>0</td>\n",
       "    </tr>\n",
       "  </tbody>\n",
       "</table>\n",
       "<p>5 rows × 55 columns</p>\n",
       "</div>"
      ],
      "text/plain": [
       "   unknown  Action  Adventure  Animation  Children's  Comedy  Crime  \\\n",
       "0        0       0          0          0           0       0      0   \n",
       "1        0       1          1          0           0       0      0   \n",
       "2        0       0          0          0           0       1      0   \n",
       "3        0       1          0          0           0       0      0   \n",
       "4        0       0          0          0           0       0      0   \n",
       "\n",
       "   Documentary  Drama  Fantasy  ...  occupation_student  \\\n",
       "0            0      1        0  ...                   0   \n",
       "1            0      0        0  ...                   0   \n",
       "2            0      0        0  ...                   0   \n",
       "3            0      0        0  ...                   0   \n",
       "4            0      1        0  ...                   0   \n",
       "\n",
       "   occupation_technician  occupation_writer  release_year_1940-1949  \\\n",
       "0                      1                  0                       0   \n",
       "1                      1                  0                       0   \n",
       "2                      1                  0                       0   \n",
       "3                      1                  0                       0   \n",
       "4                      0                  0                       0   \n",
       "\n",
       "   release_year_1950-1959  release_year_1960-1969  release_year_1970-1979  \\\n",
       "0                       0                       0                       0   \n",
       "1                       0                       0                       0   \n",
       "2                       0                       0                       0   \n",
       "3                       0                       0                       0   \n",
       "4                       0                       0                       0   \n",
       "\n",
       "   release_year_1980-1989  release_year_1990-1999  release_year_before 1940  \n",
       "0                       0                       1                         0  \n",
       "1                       0                       1                         0  \n",
       "2                       0                       1                         0  \n",
       "3                       0                       1                         0  \n",
       "4                       0                       1                         0  \n",
       "\n",
       "[5 rows x 55 columns]"
      ]
     },
     "execution_count": 4,
     "metadata": {},
     "output_type": "execute_result"
    }
   ],
   "source": [
    "ua_test.head()"
   ]
  },
  {
   "cell_type": "markdown",
   "metadata": {},
   "source": [
    "### 2.2. Data Splitting:"
   ]
  },
  {
   "cell_type": "markdown",
   "metadata": {},
   "source": [
    "Create a binary target variable 'like' where 1 represents \"Like\" and 0 represents \"Dislike\""
   ]
  },
  {
   "cell_type": "code",
   "execution_count": 5,
   "metadata": {},
   "outputs": [],
   "source": [
    "# Create a binary target variable 'like' where 1 represents \"Like\" and 0 represents \"Dislike\"\n",
    "ua_train['like'] = (ua_train['rating'] >= 4).astype(int)\n",
    "ua_test['like'] = (ua_test['rating'] >= 4).astype(int)"
   ]
  },
  {
   "cell_type": "markdown",
   "metadata": {},
   "source": [
    "Count plot for like for ua_train"
   ]
  },
  {
   "cell_type": "code",
   "execution_count": 6,
   "metadata": {},
   "outputs": [
    {
     "data": {
      "image/png": "[encoded data removed]",
      "text/plain": [
       "<Figure size 640x480 with 1 Axes>"
      ]
     },
     "metadata": {},
     "output_type": "display_data"
    }
   ],
   "source": [
    "sns.countplot(data=ua_train, x='like')\n",
    "plt.title('Like distribution for ua_train')\n",
    "plt.tight_layout()\n",
    "plt.show()"
   ]
  },
  {
   "cell_type": "markdown",
   "metadata": {},
   "source": [
    "Count plot for like for ua_test"
   ]
  },
  {
   "cell_type": "code",
   "execution_count": 7,
   "metadata": {},
   "outputs": [
    {
     "data": {
      "image/png": "[encoded data removed]",
      "text/plain": [
       "<Figure size 640x480 with 1 Axes>"
      ]
     },
     "metadata": {},
     "output_type": "display_data"
    }
   ],
   "source": [
    "sns.countplot(data=ua_test, x='like')\n",
    "plt.title('Like distribution for ua_test')\n",
    "plt.tight_layout()\n",
    "plt.show()"
   ]
  },
  {
   "cell_type": "markdown",
   "metadata": {},
   "source": [
    "Excluding the rating column to form the input data for the model"
   ]
  },
  {
   "cell_type": "code",
   "execution_count": 8,
   "metadata": {},
   "outputs": [],
   "source": [
    "ua_train.drop('rating', axis=1, inplace=True)\n",
    "ua_test.drop('rating', axis=1, inplace=True)"
   ]
  },
  {
   "cell_type": "markdown",
   "metadata": {},
   "source": [
    "Splitting the data into features (x) and the binary target variable (y)"
   ]
  },
  {
   "cell_type": "code",
   "execution_count": 9,
   "metadata": {},
   "outputs": [],
   "source": [
    "# Split your data into features (x) and the binary target variable (y)\n",
    "X_train = ua_train.drop('like', axis=1)\n",
    "y_train = ua_train['like']\n",
    "X_test = ua_test.drop('like', axis=1)\n",
    "y_test = ua_test['like']"
   ]
  },
  {
   "cell_type": "markdown",
   "metadata": {},
   "source": [
    "### 2.3. Modeling:"
   ]
  },
  {
   "cell_type": "markdown",
   "metadata": {},
   "source": [
    "Standardize the data"
   ]
  },
  {
   "cell_type": "code",
   "execution_count": 10,
   "metadata": {},
   "outputs": [],
   "source": [
    "scaler = StandardScaler()\n",
    "X_train = scaler.fit_transform(X_train)\n",
    "X_test = scaler.transform(X_test)"
   ]
  },
  {
   "cell_type": "markdown",
   "metadata": {},
   "source": [
    "Initialize an MLPClassifier with specific default settings"
   ]
  },
  {
   "cell_type": "code",
   "execution_count": 11,
   "metadata": {},
   "outputs": [],
   "source": [
    "# Create an MLPClassifier\n",
    "mlp = MLPClassifier(hidden_layer_sizes=(16,), activation='relu', learning_rate_init=0.001, max_iter=1000, batch_size=64)"
   ]
  },
  {
   "cell_type": "markdown",
   "metadata": {},
   "source": [
    "Train the MLP classifier using the training data (X_train and y_train)"
   ]
  },
  {
   "cell_type": "code",
   "execution_count": 12,
   "metadata": {},
   "outputs": [
    {
     "data": {
      "text/html": [
       "<style>#sk-container-id-1 {color: black;background-color: white;}#sk-container-id-1 pre{padding: 0;}#sk-container-id-1 div.sk-toggleable {background-color: white;}#sk-container-id-1 label.sk-toggleable__label {cursor: pointer;display: block;width: 100%;margin-bottom: 0;padding: 0.3em;box-sizing: border-box;text-align: center;}#sk-container-id-1 label.sk-toggleable__label-arrow:before {content: \"▸\";float: left;margin-right: 0.25em;color: #696969;}#sk-container-id-1 label.sk-toggleable__label-arrow:hover:before {color: black;}#sk-container-id-1 div.sk-estimator:hover label.sk-toggleable__label-arrow:before {color: black;}#sk-container-id-1 div.sk-toggleable__content {max-height: 0;max-width: 0;overflow: hidden;text-align: left;background-color: #f0f8ff;}#sk-container-id-1 div.sk-toggleable__content pre {margin: 0.2em;color: black;border-radius: 0.25em;background-color: #f0f8ff;}#sk-container-id-1 input.sk-toggleable__control:checked~div.sk-toggleable__content {max-height: 200px;max-width: 100%;overflow: auto;}#sk-container-id-1 input.sk-toggleable__control:checked~label.sk-toggleable__label-arrow:before {content: \"▾\";}#sk-container-id-1 div.sk-estimator input.sk-toggleable__control:checked~label.sk-toggleable__label {background-color: #d4ebff;}#sk-container-id-1 div.sk-label input.sk-toggleable__control:checked~label.sk-toggleable__label {background-color: #d4ebff;}#sk-container-id-1 input.sk-hidden--visually {border: 0;clip: rect(1px 1px 1px 1px);clip: rect(1px, 1px, 1px, 1px);height: 1px;margin: -1px;overflow: hidden;padding: 0;position: absolute;width: 1px;}#sk-container-id-1 div.sk-estimator {font-family: monospace;background-color: #f0f8ff;border: 1px dotted black;border-radius: 0.25em;box-sizing: border-box;margin-bottom: 0.5em;}#sk-container-id-1 div.sk-estimator:hover {background-color: #d4ebff;}#sk-container-id-1 div.sk-parallel-item::after {content: \"\";width: 100%;border-bottom: 1px solid gray;flex-grow: 1;}#sk-container-id-1 div.sk-label:hover label.sk-toggleable__label {background-color: #d4ebff;}#sk-container-id-1 div.sk-serial::before {content: \"\";position: absolute;border-left: 1px solid gray;box-sizing: border-box;top: 0;bottom: 0;left: 50%;z-index: 0;}#sk-container-id-1 div.sk-serial {display: flex;flex-direction: column;align-items: center;background-color: white;padding-right: 0.2em;padding-left: 0.2em;position: relative;}#sk-container-id-1 div.sk-item {position: relative;z-index: 1;}#sk-container-id-1 div.sk-parallel {display: flex;align-items: stretch;justify-content: center;background-color: white;position: relative;}#sk-container-id-1 div.sk-item::before, #sk-container-id-1 div.sk-parallel-item::before {content: \"\";position: absolute;border-left: 1px solid gray;box-sizing: border-box;top: 0;bottom: 0;left: 50%;z-index: -1;}#sk-container-id-1 div.sk-parallel-item {display: flex;flex-direction: column;z-index: 1;position: relative;background-color: white;}#sk-container-id-1 div.sk-parallel-item:first-child::after {align-self: flex-end;width: 50%;}#sk-container-id-1 div.sk-parallel-item:last-child::after {align-self: flex-start;width: 50%;}#sk-container-id-1 div.sk-parallel-item:only-child::after {width: 0;}#sk-container-id-1 div.sk-dashed-wrapped {border: 1px dashed gray;margin: 0 0.4em 0.5em 0.4em;box-sizing: border-box;padding-bottom: 0.4em;background-color: white;}#sk-container-id-1 div.sk-label label {font-family: monospace;font-weight: bold;display: inline-block;line-height: 1.2em;}#sk-container-id-1 div.sk-label-container {text-align: center;}#sk-container-id-1 div.sk-container {/* jupyter's `normalize.less` sets `[hidden] { display: none; }` but bootstrap.min.css set `[hidden] { display: none !important; }` so we also need the `!important` here to be able to override the default hidden behavior on the sphinx rendered scikit-learn.org. See: https://github.com/scikit-learn/scikit-learn/issues/21755 */display: inline-block !important;position: relative;}#sk-container-id-1 div.sk-text-repr-fallback {display: none;}</style><div id=\"sk-container-id-1\" class=\"sk-top-container\"><div class=\"sk-text-repr-fallback\"><pre>MLPClassifier(batch_size=64, hidden_layer_sizes=(16,), max_iter=1000)</pre><b>In a Jupyter environment, please rerun this cell to show the HTML representation or trust the notebook. <br />On GitHub, the HTML representation is unable to render, please try loading this page with nbviewer.org.</b></div><div class=\"sk-container\" hidden><div class=\"sk-item\"><div class=\"sk-estimator sk-toggleable\"><input class=\"sk-toggleable__control sk-hidden--visually\" id=\"sk-estimator-id-1\" type=\"checkbox\" checked><label for=\"sk-estimator-id-1\" class=\"sk-toggleable__label sk-toggleable__label-arrow\">MLPClassifier</label><div class=\"sk-toggleable__content\"><pre>MLPClassifier(batch_size=64, hidden_layer_sizes=(16,), max_iter=1000)</pre></div></div></div></div></div>"
      ],
      "text/plain": [
       "MLPClassifier(batch_size=64, hidden_layer_sizes=(16,), max_iter=1000)"
      ]
     },
     "execution_count": 12,
     "metadata": {},
     "output_type": "execute_result"
    }
   ],
   "source": [
    "mlp.fit(X_train, y_train)"
   ]
  },
  {
   "cell_type": "markdown",
   "metadata": {},
   "source": [
    "Predict ratings for the test data using the trained MLP classifier"
   ]
  },
  {
   "cell_type": "code",
   "execution_count": 13,
   "metadata": {},
   "outputs": [],
   "source": [
    "y_pred = mlp.predict(X_test)"
   ]
  },
  {
   "cell_type": "markdown",
   "metadata": {},
   "source": [
    "### 2.4. Initial Model Evaluation:"
   ]
  },
  {
   "cell_type": "markdown",
   "metadata": {},
   "source": [
    "Evaluating the accuracy of the MLP classifier on the test data"
   ]
  },
  {
   "cell_type": "code",
   "execution_count": 14,
   "metadata": {},
   "outputs": [
    {
     "name": "stdout",
     "output_type": "stream",
     "text": [
      "Accuracy: 0.6320858992578556\n"
     ]
    }
   ],
   "source": [
    "# Accuracy\n",
    "accuracy = accuracy_score(y_test, y_pred)\n",
    "print(\"Accuracy:\", accuracy)"
   ]
  },
  {
   "cell_type": "markdown",
   "metadata": {},
   "source": [
    "Evaluating the precision of the MLP classifier on the test data"
   ]
  },
  {
   "cell_type": "code",
   "execution_count": 15,
   "metadata": {},
   "outputs": [
    {
     "name": "stdout",
     "output_type": "stream",
     "text": [
      "Precision: 0.6839766081871345\n"
     ]
    }
   ],
   "source": [
    "# Precision\n",
    "precision = precision_score(y_test, y_pred)\n",
    "print(\"Precision:\", precision)"
   ]
  },
  {
   "cell_type": "markdown",
   "metadata": {},
   "source": [
    "Evaluating the recall of the MLP classifier on the test data"
   ]
  },
  {
   "cell_type": "code",
   "execution_count": 16,
   "metadata": {},
   "outputs": [
    {
     "name": "stdout",
     "output_type": "stream",
     "text": [
      "Recall: 0.74916730719959\n"
     ]
    }
   ],
   "source": [
    "# Recall\n",
    "recall = recall_score(y_test, y_pred)\n",
    "print(\"Recall:\", recall)"
   ]
  },
  {
   "cell_type": "markdown",
   "metadata": {},
   "source": [
    "Evaluating the F1-score of the MLP classifier on the test data"
   ]
  },
  {
   "cell_type": "code",
   "execution_count": 17,
   "metadata": {},
   "outputs": [
    {
     "name": "stdout",
     "output_type": "stream",
     "text": [
      "F1-Score: 0.7150892638786989\n"
     ]
    }
   ],
   "source": [
    "# F1-score\n",
    "f1 = f1_score(y_test, y_pred)\n",
    "print(\"F1-Score:\", f1)"
   ]
  },
  {
   "cell_type": "markdown",
   "metadata": {},
   "source": [
    "Evaluating the AUC-ROC score of the MLP classifier on the test data"
   ]
  },
  {
   "cell_type": "code",
   "execution_count": 18,
   "metadata": {},
   "outputs": [
    {
     "name": "stdout",
     "output_type": "stream",
     "text": [
      "AUC-ROC: 0.6378621910548918\n"
     ]
    }
   ],
   "source": [
    "# AUC-ROC\n",
    "y_prob = mlp.predict_proba(X_test)[:, 1]\n",
    "roc_auc = roc_auc_score(y_test, y_prob)\n",
    "print(\"AUC-ROC:\", roc_auc)\n"
   ]
  },
  {
   "cell_type": "markdown",
   "metadata": {},
   "source": [
    "Plotting the ROC curve for the MLP classifier"
   ]
  },
  {
   "cell_type": "code",
   "execution_count": 19,
   "metadata": {},
   "outputs": [
    {
     "data": {
      "image/png": "[encoded data removed]",
      "text/plain": [
       "<Figure size 800x600 with 1 Axes>"
      ]
     },
     "metadata": {},
     "output_type": "display_data"
    }
   ],
   "source": [
    "# Calculate the ROC curve\n",
    "fpr, tpr, thresholds = roc_curve(y_test, y_prob)\n",
    "\n",
    "# Calculate AUC-ROC\n",
    "roc_auc = roc_auc_score(y_test, y_prob)\n",
    "\n",
    "# Plot the ROC curve\n",
    "plt.figure(figsize=(8, 6))\n",
    "plt.plot(fpr, tpr, color='darkorange', lw=2, label=f'ROC curve (AUC = {roc_auc:.2f})')\n",
    "plt.plot([0, 1], [0, 1], color='navy', lw=2, linestyle='--')\n",
    "plt.xlim([0.0, 1.0])\n",
    "plt.ylim([0.0, 1.05])\n",
    "plt.xlabel('False Positive Rate')\n",
    "plt.ylabel('True Positive Rate')\n",
    "plt.title('Receiver Operating Characteristic (ROC) Curve')\n",
    "plt.legend(loc='lower right')\n",
    "plt.show()"
   ]
  },
  {
   "cell_type": "markdown",
   "metadata": {},
   "source": [
    "Evaluating classification metrics with varying thresholds for the MLP classifier"
   ]
  },
  {
   "cell_type": "code",
   "execution_count": 20,
   "metadata": {},
   "outputs": [
    {
     "name": "stdout",
     "output_type": "stream",
     "text": [
      "Threshold: 0.10\n",
      "Accuracy: 0.62\n",
      "Precision: 0.62\n",
      "Recall: 1.00\n",
      "F1-Score: 0.76\n",
      "AUC-ROC: 0.64\n",
      "\n",
      "Threshold: 0.20\n",
      "Accuracy: 0.62\n",
      "Precision: 0.62\n",
      "Recall: 1.00\n",
      "F1-Score: 0.76\n",
      "AUC-ROC: 0.64\n",
      "\n",
      "Threshold: 0.30\n",
      "Accuracy: 0.62\n",
      "Precision: 0.62\n",
      "Recall: 0.97\n",
      "F1-Score: 0.76\n",
      "AUC-ROC: 0.64\n",
      "\n",
      "Threshold: 0.40\n",
      "Accuracy: 0.64\n",
      "Precision: 0.65\n",
      "Recall: 0.90\n",
      "F1-Score: 0.75\n",
      "AUC-ROC: 0.64\n",
      "\n",
      "Threshold: 0.50\n",
      "Accuracy: 0.63\n",
      "Precision: 0.68\n",
      "Recall: 0.75\n",
      "F1-Score: 0.72\n",
      "AUC-ROC: 0.64\n",
      "\n",
      "Threshold: 0.60\n",
      "Accuracy: 0.58\n",
      "Precision: 0.72\n",
      "Recall: 0.51\n",
      "F1-Score: 0.60\n",
      "AUC-ROC: 0.64\n",
      "\n",
      "Threshold: 0.70\n",
      "Accuracy: 0.50\n",
      "Precision: 0.76\n",
      "Recall: 0.27\n",
      "F1-Score: 0.39\n",
      "AUC-ROC: 0.64\n",
      "\n",
      "Threshold: 0.80\n",
      "Accuracy: 0.43\n",
      "Precision: 0.79\n",
      "Recall: 0.10\n",
      "F1-Score: 0.17\n",
      "AUC-ROC: 0.64\n",
      "\n",
      "Threshold: 0.90\n",
      "Accuracy: 0.39\n",
      "Precision: 0.86\n",
      "Recall: 0.02\n",
      "F1-Score: 0.03\n",
      "AUC-ROC: 0.64\n",
      "\n"
     ]
    }
   ],
   "source": [
    "thresholds = [0.1, 0.2, 0.3, 0.4, 0.5, 0.6, 0.7, 0.8, 0.9]\n",
    "\n",
    "for threshold in thresholds:\n",
    "    y_pred_thresholded = (y_prob >= threshold).astype(int)\n",
    "    accuracy = accuracy_score(y_test, y_pred_thresholded)\n",
    "    precision = precision_score(y_test, y_pred_thresholded)\n",
    "    recall = recall_score(y_test, y_pred_thresholded)\n",
    "    f1 = f1_score(y_test, y_pred_thresholded)\n",
    "    roc_auc = roc_auc_score(y_test, y_prob)\n",
    "\n",
    "    print(f\"Threshold: {threshold:.2f}\")\n",
    "    print(f\"Accuracy: {accuracy:.2f}\")\n",
    "    print(f\"Precision: {precision:.2f}\")\n",
    "    print(f\"Recall: {recall:.2f}\")\n",
    "    print(f\"F1-Score: {f1:.2f}\")\n",
    "    print(f\"AUC-ROC: {roc_auc:.2f}\")\n",
    "    print()\n"
   ]
  },
  {
   "cell_type": "markdown",
   "metadata": {},
   "source": [
    "Calculating Lift Values and Cumulative Lift Values for the MLP classifier"
   ]
  },
  {
   "cell_type": "code",
   "execution_count": 21,
   "metadata": {},
   "outputs": [
    {
     "name": "stdout",
     "output_type": "stream",
     "text": [
      "Threshold: 0.10\n",
      "Lift Value: 1.62\n",
      "Cumulative Lift Value: 1.00\n",
      "\n",
      "Threshold: 0.20\n",
      "Lift Value: 1.62\n",
      "Cumulative Lift Value: 1.00\n",
      "\n",
      "Threshold: 0.30\n",
      "Lift Value: 1.58\n",
      "Cumulative Lift Value: 1.00\n",
      "\n",
      "Threshold: 0.40\n",
      "Lift Value: 1.46\n",
      "Cumulative Lift Value: 1.00\n",
      "\n",
      "Threshold: 0.50\n",
      "Lift Value: 1.22\n",
      "Cumulative Lift Value: 1.00\n",
      "\n",
      "Threshold: 0.60\n",
      "Lift Value: 0.82\n",
      "Cumulative Lift Value: 1.00\n",
      "\n",
      "Threshold: 0.70\n",
      "Lift Value: 0.43\n",
      "Cumulative Lift Value: 1.00\n",
      "\n",
      "Threshold: 0.80\n",
      "Lift Value: 0.16\n",
      "Cumulative Lift Value: 1.00\n",
      "\n",
      "Threshold: 0.90\n",
      "Lift Value: 0.03\n",
      "Cumulative Lift Value: 1.00\n",
      "\n"
     ]
    }
   ],
   "source": [
    "lift_values = []\n",
    "cumulative_lift_values = []\n",
    "\n",
    "for threshold in thresholds:\n",
    "    y_pred_thresholded = (y_prob >= threshold).astype(int)\n",
    "    tp = sum((y_test == 1) & (y_pred_thresholded == 1))\n",
    "    overall_positive_rate = sum(y_test == 1) / len(y_test)\n",
    "    tpr = tp / (sum(y_test == 1))\n",
    "    lift = tpr / overall_positive_rate\n",
    "    cumulative_lift = (sum(y_test == 1) / len(y_test)) / overall_positive_rate\n",
    "\n",
    "    lift_values.append(lift)\n",
    "    cumulative_lift_values.append(cumulative_lift)\n",
    "    \n",
    "    print(f\"Threshold: {threshold:.2f}\")\n",
    "    print(f\"Lift Value: {lift:.2f}\")\n",
    "    print(f\"Cumulative Lift Value: {cumulative_lift:.2f}\")\n",
    "    print()\n"
   ]
  },
  {
   "cell_type": "markdown",
   "metadata": {},
   "source": [
    "Computing Youden's Index for Different Thresholds for the MLP classifier"
   ]
  },
  {
   "cell_type": "code",
   "execution_count": 22,
   "metadata": {},
   "outputs": [
    {
     "name": "stdout",
     "output_type": "stream",
     "text": [
      "Threshold: 0.10\n",
      "Youden's Index: 0.00\n",
      "\n",
      "Threshold: 0.20\n",
      "Youden's Index: 0.01\n",
      "\n",
      "Threshold: 0.30\n",
      "Youden's Index: 0.03\n",
      "\n",
      "Threshold: 0.40\n",
      "Youden's Index: 0.12\n",
      "\n",
      "Threshold: 0.50\n",
      "Youden's Index: 0.19\n",
      "\n",
      "Threshold: 0.60\n",
      "Youden's Index: 0.19\n",
      "\n",
      "Threshold: 0.70\n",
      "Youden's Index: 0.13\n",
      "\n",
      "Threshold: 0.80\n",
      "Youden's Index: 0.06\n",
      "\n",
      "Threshold: 0.90\n",
      "Youden's Index: 0.01\n",
      "\n"
     ]
    }
   ],
   "source": [
    "youden_values = []\n",
    "\n",
    "for threshold in thresholds:\n",
    "    y_pred_thresholded = (y_prob >= threshold).astype(int)\n",
    "    tp = sum((y_test == 1) & (y_pred_thresholded == 1))\n",
    "    tn = sum((y_test == 0) & (y_pred_thresholded == 0))\n",
    "    fp = sum((y_test == 0) & (y_pred_thresholded == 1))\n",
    "    fn = sum((y_test == 1) & (y_pred_thresholded == 0))\n",
    "    sensitivity = tp / (tp + fn)\n",
    "    specificity = tn / (tn + fp)\n",
    "    youden_index = sensitivity + specificity - 1\n",
    "\n",
    "    youden_values.append(youden_index)\n",
    "\n",
    "    print(f\"Threshold: {threshold:.2f}\")\n",
    "    print(f\"Youden's Index: {youden_index:.2f}\")\n",
    "    print()\n"
   ]
  },
  {
   "cell_type": "markdown",
   "metadata": {},
   "source": [
    "### 2.5. Hyperparameter Tuning:"
   ]
  },
  {
   "cell_type": "markdown",
   "metadata": {},
   "source": [
    "Hyperparameter Tuning with GridSearchCV and K-Fold Cross-Validation"
   ]
  },
  {
   "cell_type": "code",
   "execution_count": 23,
   "metadata": {},
   "outputs": [],
   "source": [
    "# Define hyperparameters for tuning\n",
    "param_grid = {\n",
    "    'hidden_layer_sizes': [(16, 16), (32, 32), (64, 64), (32, 64, 32)],\n",
    "    'activation': ['relu', 'tanh', 'logistic'],\n",
    "    'learning_rate_init': [0.001, 0.01, 0.1],\n",
    "    'batch_size': [32, 64, 128],  # Adjust the batch sizes as needed\n",
    "}\n",
    "\n",
    "# Use K-Fold cross-validation\n",
    "kf = KFold(n_splits=10, shuffle=True, random_state=42)\n",
    "\n",
    "# Perform GridSearchCV with cross-validation for hyperparameter tuning\n",
    "grid_search = GridSearchCV(mlp, param_grid=param_grid, cv=kf, n_jobs=-1)\n",
    "\n",
    "# Fit the model to the data\n",
    "grid_search.fit(X_train, y_train)\n",
    "\n",
    "# Get the best parameters from the randomized search\n",
    "best_params = grid_search.best_params_\n",
    "best_model = grid_search.best_estimator_\n"
   ]
  },
  {
   "cell_type": "markdown",
   "metadata": {},
   "source": [
    "Best parameters found through hyperparameter tuning "
   ]
  },
  {
   "cell_type": "code",
   "execution_count": 24,
   "metadata": {},
   "outputs": [
    {
     "name": "stdout",
     "output_type": "stream",
     "text": [
      "{'activation': 'logistic', 'batch_size': 32, 'hidden_layer_sizes': (16, 16), 'learning_rate_init': 0.001}\n"
     ]
    }
   ],
   "source": [
    "print(best_params)"
   ]
  },
  {
   "cell_type": "markdown",
   "metadata": {},
   "source": [
    "Fitting the best model found during hyperparameter tuning on the entire training dataset"
   ]
  },
  {
   "cell_type": "code",
   "execution_count": 25,
   "metadata": {},
   "outputs": [
    {
     "data": {
      "text/html": [
       "<style>#sk-container-id-2 {color: black;background-color: white;}#sk-container-id-2 pre{padding: 0;}#sk-container-id-2 div.sk-toggleable {background-color: white;}#sk-container-id-2 label.sk-toggleable__label {cursor: pointer;display: block;width: 100%;margin-bottom: 0;padding: 0.3em;box-sizing: border-box;text-align: center;}#sk-container-id-2 label.sk-toggleable__label-arrow:before {content: \"▸\";float: left;margin-right: 0.25em;color: #696969;}#sk-container-id-2 label.sk-toggleable__label-arrow:hover:before {color: black;}#sk-container-id-2 div.sk-estimator:hover label.sk-toggleable__label-arrow:before {color: black;}#sk-container-id-2 div.sk-toggleable__content {max-height: 0;max-width: 0;overflow: hidden;text-align: left;background-color: #f0f8ff;}#sk-container-id-2 div.sk-toggleable__content pre {margin: 0.2em;color: black;border-radius: 0.25em;background-color: #f0f8ff;}#sk-container-id-2 input.sk-toggleable__control:checked~div.sk-toggleable__content {max-height: 200px;max-width: 100%;overflow: auto;}#sk-container-id-2 input.sk-toggleable__control:checked~label.sk-toggleable__label-arrow:before {content: \"▾\";}#sk-container-id-2 div.sk-estimator input.sk-toggleable__control:checked~label.sk-toggleable__label {background-color: #d4ebff;}#sk-container-id-2 div.sk-label input.sk-toggleable__control:checked~label.sk-toggleable__label {background-color: #d4ebff;}#sk-container-id-2 input.sk-hidden--visually {border: 0;clip: rect(1px 1px 1px 1px);clip: rect(1px, 1px, 1px, 1px);height: 1px;margin: -1px;overflow: hidden;padding: 0;position: absolute;width: 1px;}#sk-container-id-2 div.sk-estimator {font-family: monospace;background-color: #f0f8ff;border: 1px dotted black;border-radius: 0.25em;box-sizing: border-box;margin-bottom: 0.5em;}#sk-container-id-2 div.sk-estimator:hover {background-color: #d4ebff;}#sk-container-id-2 div.sk-parallel-item::after {content: \"\";width: 100%;border-bottom: 1px solid gray;flex-grow: 1;}#sk-container-id-2 div.sk-label:hover label.sk-toggleable__label {background-color: #d4ebff;}#sk-container-id-2 div.sk-serial::before {content: \"\";position: absolute;border-left: 1px solid gray;box-sizing: border-box;top: 0;bottom: 0;left: 50%;z-index: 0;}#sk-container-id-2 div.sk-serial {display: flex;flex-direction: column;align-items: center;background-color: white;padding-right: 0.2em;padding-left: 0.2em;position: relative;}#sk-container-id-2 div.sk-item {position: relative;z-index: 1;}#sk-container-id-2 div.sk-parallel {display: flex;align-items: stretch;justify-content: center;background-color: white;position: relative;}#sk-container-id-2 div.sk-item::before, #sk-container-id-2 div.sk-parallel-item::before {content: \"\";position: absolute;border-left: 1px solid gray;box-sizing: border-box;top: 0;bottom: 0;left: 50%;z-index: -1;}#sk-container-id-2 div.sk-parallel-item {display: flex;flex-direction: column;z-index: 1;position: relative;background-color: white;}#sk-container-id-2 div.sk-parallel-item:first-child::after {align-self: flex-end;width: 50%;}#sk-container-id-2 div.sk-parallel-item:last-child::after {align-self: flex-start;width: 50%;}#sk-container-id-2 div.sk-parallel-item:only-child::after {width: 0;}#sk-container-id-2 div.sk-dashed-wrapped {border: 1px dashed gray;margin: 0 0.4em 0.5em 0.4em;box-sizing: border-box;padding-bottom: 0.4em;background-color: white;}#sk-container-id-2 div.sk-label label {font-family: monospace;font-weight: bold;display: inline-block;line-height: 1.2em;}#sk-container-id-2 div.sk-label-container {text-align: center;}#sk-container-id-2 div.sk-container {/* jupyter's `normalize.less` sets `[hidden] { display: none; }` but bootstrap.min.css set `[hidden] { display: none !important; }` so we also need the `!important` here to be able to override the default hidden behavior on the sphinx rendered scikit-learn.org. See: https://github.com/scikit-learn/scikit-learn/issues/21755 */display: inline-block !important;position: relative;}#sk-container-id-2 div.sk-text-repr-fallback {display: none;}</style><div id=\"sk-container-id-2\" class=\"sk-top-container\"><div class=\"sk-text-repr-fallback\"><pre>MLPClassifier(activation=&#x27;logistic&#x27;, batch_size=32, hidden_layer_sizes=(16, 16),\n",
       "              max_iter=1000)</pre><b>In a Jupyter environment, please rerun this cell to show the HTML representation or trust the notebook. <br />On GitHub, the HTML representation is unable to render, please try loading this page with nbviewer.org.</b></div><div class=\"sk-container\" hidden><div class=\"sk-item\"><div class=\"sk-estimator sk-toggleable\"><input class=\"sk-toggleable__control sk-hidden--visually\" id=\"sk-estimator-id-2\" type=\"checkbox\" checked><label for=\"sk-estimator-id-2\" class=\"sk-toggleable__label sk-toggleable__label-arrow\">MLPClassifier</label><div class=\"sk-toggleable__content\"><pre>MLPClassifier(activation=&#x27;logistic&#x27;, batch_size=32, hidden_layer_sizes=(16, 16),\n",
       "              max_iter=1000)</pre></div></div></div></div></div>"
      ],
      "text/plain": [
       "MLPClassifier(activation='logistic', batch_size=32, hidden_layer_sizes=(16, 16),\n",
       "              max_iter=1000)"
      ]
     },
     "execution_count": 25,
     "metadata": {},
     "output_type": "execute_result"
    }
   ],
   "source": [
    "# Fit the best model on the entire training dataset \n",
    "best_model.fit(X_train, y_train)"
   ]
  },
  {
   "cell_type": "markdown",
   "metadata": {},
   "source": [
    "Making predictions with the best model on the test data"
   ]
  },
  {
   "cell_type": "code",
   "execution_count": 26,
   "metadata": {},
   "outputs": [],
   "source": [
    "y_pred = best_model.predict(X_test)"
   ]
  },
  {
   "cell_type": "markdown",
   "metadata": {},
   "source": [
    "### 2.6. Evaluation Post Hyperparameter Tuning"
   ]
  },
  {
   "cell_type": "markdown",
   "metadata": {},
   "source": [
    "Evaluating the accuracy of the tuned MLP classifier on the test data"
   ]
  },
  {
   "cell_type": "code",
   "execution_count": 27,
   "metadata": {},
   "outputs": [
    {
     "name": "stdout",
     "output_type": "stream",
     "text": [
      "Accuracy: 0.6317700931627981\n"
     ]
    }
   ],
   "source": [
    "# Accuracy\n",
    "accuracy = accuracy_score(y_test, y_pred)\n",
    "print(\"Accuracy:\", accuracy)"
   ]
  },
  {
   "cell_type": "markdown",
   "metadata": {},
   "source": [
    "Evaluating the precision of the tuned MLP classifier on the test data"
   ]
  },
  {
   "cell_type": "code",
   "execution_count": 28,
   "metadata": {},
   "outputs": [
    {
     "name": "stdout",
     "output_type": "stream",
     "text": [
      "Precision: 0.6885049196064315\n"
     ]
    }
   ],
   "source": [
    "# Precision\n",
    "precision = precision_score(y_test, y_pred)\n",
    "print(\"Precision:\", precision)"
   ]
  },
  {
   "cell_type": "markdown",
   "metadata": {},
   "source": [
    "Evaluating the recall of the tuned MLP classifier on the test data"
   ]
  },
  {
   "cell_type": "code",
   "execution_count": 29,
   "metadata": {},
   "outputs": [
    {
     "name": "stdout",
     "output_type": "stream",
     "text": [
      "Recall: 0.7350755828849603\n"
     ]
    }
   ],
   "source": [
    "# Recall\n",
    "recall = recall_score(y_test, y_pred)\n",
    "print(\"Recall:\", recall)"
   ]
  },
  {
   "cell_type": "markdown",
   "metadata": {},
   "source": [
    "Evaluating the F1-score of the tuned MLP classifier on the test data"
   ]
  },
  {
   "cell_type": "code",
   "execution_count": 30,
   "metadata": {},
   "outputs": [
    {
     "name": "stdout",
     "output_type": "stream",
     "text": [
      "F1-Score: 0.7110285006195787\n"
     ]
    }
   ],
   "source": [
    "# F1-score\n",
    "f1 = f1_score(y_test, y_pred)\n",
    "print(\"F1-Score:\", f1)"
   ]
  },
  {
   "cell_type": "markdown",
   "metadata": {},
   "source": [
    "Evaluating the AUC-ROC score of the tuned MLP classifier on the test data"
   ]
  },
  {
   "cell_type": "code",
   "execution_count": 31,
   "metadata": {},
   "outputs": [
    {
     "name": "stdout",
     "output_type": "stream",
     "text": [
      "AUC-ROC: 0.6420314014016864\n"
     ]
    }
   ],
   "source": [
    "# AUC-ROC\n",
    "y_prob = best_model.predict_proba(X_test)[:, 1]\n",
    "roc_auc = roc_auc_score(y_test, y_prob)\n",
    "print(\"AUC-ROC:\", roc_auc)\n"
   ]
  },
  {
   "cell_type": "markdown",
   "metadata": {},
   "source": [
    "Plotting the ROC curve for the tuned MLP classifier"
   ]
  },
  {
   "cell_type": "code",
   "execution_count": 32,
   "metadata": {},
   "outputs": [
    {
     "data": {
      "image/png": "[encoded data removed]",
      "text/plain": [
       "<Figure size 800x600 with 1 Axes>"
      ]
     },
     "metadata": {},
     "output_type": "display_data"
    }
   ],
   "source": [
    "# Calculate the ROC curve\n",
    "fpr, tpr, thresholds = roc_curve(y_test, y_prob)\n",
    "\n",
    "# Calculate AUC-ROC\n",
    "roc_auc = roc_auc_score(y_test, y_prob)\n",
    "\n",
    "# Plot the ROC curve\n",
    "plt.figure(figsize=(8, 6))\n",
    "plt.plot(fpr, tpr, color='darkorange', lw=2, label=f'ROC curve (AUC = {roc_auc:.2f})')\n",
    "plt.plot([0, 1], [0, 1], color='navy', lw=2, linestyle='--')\n",
    "plt.xlim([0.0, 1.0])\n",
    "plt.ylim([0.0, 1.05])\n",
    "plt.xlabel('False Positive Rate')\n",
    "plt.ylabel('True Positive Rate')\n",
    "plt.title('Receiver Operating Characteristic (ROC) Curve')\n",
    "plt.legend(loc='lower right')\n",
    "plt.show()"
   ]
  },
  {
   "cell_type": "markdown",
   "metadata": {},
   "source": [
    "Evaluating classification metrics with varying thresholds for the tuned MLP classifier"
   ]
  },
  {
   "cell_type": "code",
   "execution_count": 33,
   "metadata": {},
   "outputs": [
    {
     "name": "stdout",
     "output_type": "stream",
     "text": [
      "Threshold: 0.10\n",
      "Accuracy: 0.62\n",
      "Precision: 0.62\n",
      "Recall: 1.00\n",
      "F1-Score: 0.76\n",
      "AUC-ROC: 0.64\n",
      "\n",
      "Threshold: 0.20\n",
      "Accuracy: 0.62\n",
      "Precision: 0.62\n",
      "Recall: 0.99\n",
      "F1-Score: 0.76\n",
      "AUC-ROC: 0.64\n",
      "\n",
      "Threshold: 0.30\n",
      "Accuracy: 0.63\n",
      "Precision: 0.63\n",
      "Recall: 0.95\n",
      "F1-Score: 0.76\n",
      "AUC-ROC: 0.64\n",
      "\n",
      "Threshold: 0.40\n",
      "Accuracy: 0.64\n",
      "Precision: 0.66\n",
      "Recall: 0.88\n",
      "F1-Score: 0.75\n",
      "AUC-ROC: 0.64\n",
      "\n",
      "Threshold: 0.50\n",
      "Accuracy: 0.63\n",
      "Precision: 0.69\n",
      "Recall: 0.74\n",
      "F1-Score: 0.71\n",
      "AUC-ROC: 0.64\n",
      "\n",
      "Threshold: 0.60\n",
      "Accuracy: 0.58\n",
      "Precision: 0.73\n",
      "Recall: 0.51\n",
      "F1-Score: 0.60\n",
      "AUC-ROC: 0.64\n",
      "\n",
      "Threshold: 0.70\n",
      "Accuracy: 0.50\n",
      "Precision: 0.77\n",
      "Recall: 0.27\n",
      "F1-Score: 0.40\n",
      "AUC-ROC: 0.64\n",
      "\n",
      "Threshold: 0.80\n",
      "Accuracy: 0.43\n",
      "Precision: 0.81\n",
      "Recall: 0.10\n",
      "F1-Score: 0.17\n",
      "AUC-ROC: 0.64\n",
      "\n",
      "Threshold: 0.90\n",
      "Accuracy: 0.39\n",
      "Precision: 0.88\n",
      "Recall: 0.02\n",
      "F1-Score: 0.03\n",
      "AUC-ROC: 0.64\n",
      "\n"
     ]
    }
   ],
   "source": [
    "thresholds = [0.1, 0.2, 0.3, 0.4, 0.5, 0.6, 0.7, 0.8, 0.9]\n",
    "\n",
    "for threshold in thresholds:\n",
    "    y_pred_thresholded = (y_prob >= threshold).astype(int)\n",
    "    accuracy = accuracy_score(y_test, y_pred_thresholded)\n",
    "    precision = precision_score(y_test, y_pred_thresholded)\n",
    "    recall = recall_score(y_test, y_pred_thresholded)\n",
    "    f1 = f1_score(y_test, y_pred_thresholded)\n",
    "    roc_auc = roc_auc_score(y_test, y_prob)\n",
    "\n",
    "    print(f\"Threshold: {threshold:.2f}\")\n",
    "    print(f\"Accuracy: {accuracy:.2f}\")\n",
    "    print(f\"Precision: {precision:.2f}\")\n",
    "    print(f\"Recall: {recall:.2f}\")\n",
    "    print(f\"F1-Score: {f1:.2f}\")\n",
    "    print(f\"AUC-ROC: {roc_auc:.2f}\")\n",
    "    print()\n"
   ]
  },
  {
   "cell_type": "markdown",
   "metadata": {},
   "source": [
    "Calculating Lift Values and Cumulative Lift Values for the tuned MLP classifier"
   ]
  },
  {
   "cell_type": "code",
   "execution_count": 34,
   "metadata": {},
   "outputs": [
    {
     "name": "stdout",
     "output_type": "stream",
     "text": [
      "Threshold: 0.10\n",
      "Lift Value: 1.62\n",
      "Cumulative Lift Value: 1.00\n",
      "\n",
      "Threshold: 0.20\n",
      "Lift Value: 1.61\n",
      "Cumulative Lift Value: 1.00\n",
      "\n",
      "Threshold: 0.30\n",
      "Lift Value: 1.55\n",
      "Cumulative Lift Value: 1.00\n",
      "\n",
      "Threshold: 0.40\n",
      "Lift Value: 1.43\n",
      "Cumulative Lift Value: 1.00\n",
      "\n",
      "Threshold: 0.50\n",
      "Lift Value: 1.19\n",
      "Cumulative Lift Value: 1.00\n",
      "\n",
      "Threshold: 0.60\n",
      "Lift Value: 0.83\n",
      "Cumulative Lift Value: 1.00\n",
      "\n",
      "Threshold: 0.70\n",
      "Lift Value: 0.43\n",
      "Cumulative Lift Value: 1.00\n",
      "\n",
      "Threshold: 0.80\n",
      "Lift Value: 0.16\n",
      "Cumulative Lift Value: 1.00\n",
      "\n",
      "Threshold: 0.90\n",
      "Lift Value: 0.02\n",
      "Cumulative Lift Value: 1.00\n",
      "\n"
     ]
    }
   ],
   "source": [
    "lift_values = []\n",
    "cumulative_lift_values = []\n",
    "\n",
    "for threshold in thresholds:\n",
    "    y_pred_thresholded = (y_prob >= threshold).astype(int)\n",
    "    tp = sum((y_test == 1) & (y_pred_thresholded == 1))\n",
    "    overall_positive_rate = sum(y_test == 1) / len(y_test)\n",
    "    tpr = tp / (sum(y_test == 1))\n",
    "    lift = tpr / overall_positive_rate\n",
    "    cumulative_lift = (sum(y_test == 1) / len(y_test)) / overall_positive_rate\n",
    "\n",
    "    lift_values.append(lift)\n",
    "    cumulative_lift_values.append(cumulative_lift)\n",
    "    \n",
    "    print(f\"Threshold: {threshold:.2f}\")\n",
    "    print(f\"Lift Value: {lift:.2f}\")\n",
    "    print(f\"Cumulative Lift Value: {cumulative_lift:.2f}\")\n",
    "    print()\n"
   ]
  },
  {
   "cell_type": "markdown",
   "metadata": {},
   "source": [
    "Computing Youden's Index for Different Thresholds for the tuned MLP classifier"
   ]
  },
  {
   "cell_type": "code",
   "execution_count": 35,
   "metadata": {},
   "outputs": [
    {
     "name": "stdout",
     "output_type": "stream",
     "text": [
      "Threshold: 0.10\n",
      "Youden's Index: 0.00\n",
      "\n",
      "Threshold: 0.20\n",
      "Youden's Index: 0.02\n",
      "\n",
      "Threshold: 0.30\n",
      "Youden's Index: 0.05\n",
      "\n",
      "Threshold: 0.40\n",
      "Youden's Index: 0.14\n",
      "\n",
      "Threshold: 0.50\n",
      "Youden's Index: 0.20\n",
      "\n",
      "Threshold: 0.60\n",
      "Youden's Index: 0.21\n",
      "\n",
      "Threshold: 0.70\n",
      "Youden's Index: 0.14\n",
      "\n",
      "Threshold: 0.80\n",
      "Youden's Index: 0.06\n",
      "\n",
      "Threshold: 0.90\n",
      "Youden's Index: 0.01\n",
      "\n"
     ]
    }
   ],
   "source": [
    "youden_values = []\n",
    "\n",
    "for threshold in thresholds:\n",
    "    y_pred_thresholded = (y_prob >= threshold).astype(int)\n",
    "    tp = sum((y_test == 1) & (y_pred_thresholded == 1))\n",
    "    tn = sum((y_test == 0) & (y_pred_thresholded == 0))\n",
    "    fp = sum((y_test == 0) & (y_pred_thresholded == 1))\n",
    "    fn = sum((y_test == 1) & (y_pred_thresholded == 0))\n",
    "    sensitivity = tp / (tp + fn)\n",
    "    specificity = tn / (tn + fp)\n",
    "    youden_index = sensitivity + specificity - 1\n",
    "\n",
    "    youden_values.append(youden_index)\n",
    "\n",
    "    print(f\"Threshold: {threshold:.2f}\")\n",
    "    print(f\"Youden's Index: {youden_index:.2f}\")\n",
    "    print()\n"
   ]
  }
 ],
 "metadata": {
  "kernelspec": {
   "display_name": "Python 3",
   "language": "python",
   "name": "python3"
  },
  "language_info": {
   "codemirror_mode": {
    "name": "ipython",
    "version": 3
   },
   "file_extension": ".py",
   "mimetype": "text/x-python",
   "name": "python",
   "nbconvert_exporter": "python",
   "pygments_lexer": "ipython3",
   "version": "3.10.7"
  }
 },
 "nbformat": 4,
 "nbformat_minor": 4
}
